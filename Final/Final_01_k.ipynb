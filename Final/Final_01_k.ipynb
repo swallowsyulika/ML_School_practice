{
 "cells": [
  {
   "cell_type": "code",
   "execution_count": 2,
   "metadata": {},
   "outputs": [],
   "source": [
    "import numpy as np\n",
    "import pandas as pd\n",
    "import matplotlib.pyplot as plt\n",
    "from sklearn.preprocessing import OneHotEncoder, StandardScaler\n",
    "from sklearn.compose import ColumnTransformer\n",
    "from sklearn.model_selection import train_test_split\n",
    "from sklearn.linear_model import LinearRegression\n",
    "from sklearn.preprocessing import PolynomialFeatures\n",
    "from sklearn.svm import SVR\n",
    "import statsmodels.api as sm"
   ]
  },
  {
   "cell_type": "code",
   "execution_count": 3,
   "metadata": {},
   "outputs": [],
   "source": [
    "def DealMissingData(X, dfX):\n",
    "    ''' deal with missing data\n",
    "        X: data, type(numpy array)\n",
    "        dfX: same as X data, type(pandas array) '''\n",
    "    \n",
    "    print(\"----------- Start deal missing data -----------\")\n",
    "    TFarr = np.array(dfX.isna().any())\n",
    "    for index, ele in enumerate(TFarr):\n",
    "        if ele:\n",
    "            if isinstance(X[0][index], str):\n",
    "                # deal with string data\n",
    "                imputer = SimpleImputer(missing_values=np.nan, strategy='most_frequent')\n",
    "                imputer.fit(X[:, [index]])\n",
    "                X[:, [index]] = imputer.transform(X[:, [index]])\n",
    "            else:\n",
    "                # deal with digital data\n",
    "                imputer = SimpleImputer(missing_values=np.nan, strategy='mean')\n",
    "                imputer.fit(X[:, [index]])\n",
    "                X[:, [index]] = imputer.transform(X[:, [index]])\n",
    "            print(f\"{index} column have missing data, fixed!\")\n",
    "        else:\n",
    "            print(f\"{index} column not have missing data\")\n",
    "            \n",
    "    print(\"----------- End deal missing data! -----------\")\n",
    "    return X"
   ]
  },
  {
   "cell_type": "code",
   "execution_count": 4,
   "metadata": {},
   "outputs": [],
   "source": [
    "def MakeOneHot(X, pos={}):\n",
    "    ''' make one-hot  \n",
    "        X: data, type(numpy array)\n",
    "        pos: where need to onehot, type(dictionary) '''\n",
    "    \n",
    "    print(\"----------- Start onehot -----------\")\n",
    "    FeaturesNum = len(X[0])    # init\n",
    "    for key in pos:\n",
    "        print(f\"{FeaturesNum-pos[key]} column need to one-hot, fixed!\")\n",
    "        ct = ColumnTransformer([(key, OneHotEncoder(), [FeaturesNum-pos[key]])], remainder='passthrough')\n",
    "        NewX = ct.fit_transform(X)\n",
    "        X = NewX[:, 1:]\n",
    "        FeaturesNum = len(X[0])\n",
    "    \n",
    "    #print(FeaturesNum)\n",
    "    #print(X[0])\n",
    "    print(\"----------- End onehot -----------\")\n",
    "    return X\n"
   ]
  },
  {
   "cell_type": "code",
   "execution_count": 5,
   "metadata": {},
   "outputs": [],
   "source": [
    "def NormalizeData(data_train, data_test):\n",
    "    ''' normalize data\n",
    "        data_train: training data, type(numpy array)\n",
    "        data_test: testing data, type(numpy array) '''\n",
    "    \n",
    "    print(\"----------- Start normalize -----------\")\n",
    "    sc = StandardScaler()\n",
    "    data_train = sc_X.fit_transform(data_train)\n",
    "    data_test = sc_X.transform(data_test)\n",
    "    \n",
    "    print(\"----------- End normalize -----------\")\n",
    "    return data_train, data_test"
   ]
  },
  {
   "cell_type": "code",
   "execution_count": 6,
   "metadata": {},
   "outputs": [],
   "source": [
    "def DrawRelationship(X, y):\n",
    "    label_x = ['age', 'sex', 'bmi', 'children', 'smoker', 'region']\n",
    "    label_y = 'charges'\n",
    "    for index, ele in enumerate(label_x):\n",
    "        allarr = []\n",
    "        for i in range(len(X)):\n",
    "            allarr.append(X[i][index])\n",
    "            \n",
    "        plt.scatter(allarr, y, c=\"red\")\n",
    "        plt.xlabel(ele)\n",
    "        plt.ylabel(label_y)\n",
    "        plt.show() "
   ]
  },
  {
   "cell_type": "markdown",
   "metadata": {},
   "source": [
    "<h1>Data preprocessing</h1>"
   ]
  },
  {
   "cell_type": "code",
   "execution_count": 9,
   "metadata": {},
   "outputs": [
    {
     "name": "stdout",
     "output_type": "stream",
     "text": [
      "----------- Start deal missing data -----------\n",
      "0 column not have missing data\n",
      "1 column not have missing data\n",
      "2 column not have missing data\n",
      "3 column not have missing data\n",
      "4 column not have missing data\n",
      "5 column not have missing data\n",
      "----------- End deal missing data! -----------\n",
      "----------- Start onehot -----------\n",
      "1 column need to one-hot, fixed!\n",
      "3 column need to one-hot, fixed!\n",
      "8 column need to one-hot, fixed!\n",
      "9 column need to one-hot, fixed!\n",
      "----------- End onehot -----------\n",
      "Preprocessing data done!\n"
     ]
    },
    {
     "name": "stderr",
     "output_type": "stream",
     "text": [
      "C:\\Users\\john\\copy\\Anaconda\\lib\\site-packages\\sklearn\\preprocessing\\_encoders.py:415: FutureWarning: The handling of integer data will change in version 0.22. Currently, the categories are determined based on the range [0, max(values)], while in the future they will be determined based on the unique values.\n",
      "If you want the future behaviour and silence this warning, you can specify \"categories='auto'\".\n",
      "In case you used a LabelEncoder before this OneHotEncoder to convert the categories to integers, then you can now use the OneHotEncoder directly.\n",
      "  warnings.warn(msg, FutureWarning)\n"
     ]
    }
   ],
   "source": [
    "df = pd.read_csv(\".//dataset/final_project_dataset_1.csv\")\n",
    "\n",
    "dfX = df.iloc[:, :-1]\n",
    "X = dfX.values\n",
    "y = df.iloc[:, -1].values\n",
    "#DrawRelationship(X, y)\n",
    "\n",
    "X = DealMissingData(X, dfX)\n",
    "\n",
    "pos2onehot = {'Sex': 5, 'children': 3, 'Smoker': 2, 'Region': 1}\n",
    "X = MakeOneHot(X, pos2onehot)\n",
    "\n",
    "# split data\n",
    "X_train, X_test, y_train, y_test = train_test_split(X, y, test_size=0.2, random_state=0)\n",
    "\n",
    "# X_train, X_test = NormalizeData(X_train, X_test)\n",
    "\n",
    "print(\"Preprocessing data done!\")"
   ]
  },
  {
   "cell_type": "markdown",
   "metadata": {},
   "source": [
    "<h1>Polynomial</h1>"
   ]
  },
  {
   "cell_type": "code",
   "execution_count": 10,
   "metadata": {},
   "outputs": [
    {
     "data": {
      "text/plain": [
       "LinearRegression(copy_X=True, fit_intercept=True, n_jobs=None, normalize=False)"
      ]
     },
     "execution_count": 10,
     "metadata": {},
     "output_type": "execute_result"
    }
   ],
   "source": [
    "poly_reg = PolynomialFeatures(degree=7)    # degree=1 >> b + bX1  ==  linear\n",
    "X_poly = poly_reg.fit_transform(X_train)\n",
    "\n",
    "# linear gression\n",
    "poly_lin_reg = LinearRegression()\n",
    "poly_lin_reg.fit(X_poly, y_train)"
   ]
  },
  {
   "cell_type": "code",
   "execution_count": 11,
   "metadata": {},
   "outputs": [],
   "source": [
    "Poly_pred = poly_lin_reg.predict(poly_reg.transform(X_test))\n",
    "Poly_acc = poly_lin_reg.score(poly_reg.transform(X_test), y_test)"
   ]
  },
  {
   "cell_type": "code",
   "execution_count": 12,
   "metadata": {},
   "outputs": [
    {
     "name": "stdout",
     "output_type": "stream",
     "text": [
      "8124.103678263316\n",
      "-5878316.11148767\n"
     ]
    }
   ],
   "source": [
    "print(Poly_pred[0])\n",
    "print(Poly_acc)"
   ]
  },
  {
   "cell_type": "code",
   "execution_count": 13,
   "metadata": {},
   "outputs": [
    {
     "data": {
      "image/png": "[encoded data removed]",
      "text/plain": [
       "<Figure size 432x288 with 1 Axes>"
      ]
     },
     "metadata": {
      "needs_background": "light"
     },
     "output_type": "display_data"
    },
    {
     "data": {
      "image/png": "[encoded data removed]",
      "text/plain": [
       "<Figure size 432x288 with 1 Axes>"
      ]
     },
     "metadata": {
      "needs_background": "light"
     },
     "output_type": "display_data"
    }
   ],
   "source": [
    "allarr = []\n",
    "for i in range(len(X_test)):\n",
    "    allarr.append(X_test[i][-2])\n",
    "\n",
    "plt.scatter(allarr, Poly_pred, c=\"blue\")\n",
    "plt.scatter(allarr, y_test, c=\"red\")\n",
    "plt.xlabel('age')\n",
    "plt.ylabel('charges')\n",
    "plt.show() \n",
    "\n",
    "allarr = []\n",
    "for i in range(len(X_test)):\n",
    "    allarr.append(X_test[i][-1])\n",
    "\n",
    "plt.scatter(allarr, Poly_pred, c=\"blue\")\n",
    "plt.scatter(allarr, y_test, c=\"red\")\n",
    "plt.xlabel('bmi')\n",
    "plt.ylabel('charges')\n",
    "plt.show() "
   ]
  },
  {
   "cell_type": "markdown",
   "metadata": {},
   "source": [
    "<h1>Linear</h1>"
   ]
  },
  {
   "cell_type": "code",
   "execution_count": 14,
   "metadata": {},
   "outputs": [
    {
     "data": {
      "text/plain": [
       "LinearRegression(copy_X=True, fit_intercept=True, n_jobs=None, normalize=False)"
      ]
     },
     "execution_count": 14,
     "metadata": {},
     "output_type": "execute_result"
    }
   ],
   "source": [
    "lin_reg = LinearRegression()\n",
    "lin_reg.fit(X_train, y_train)"
   ]
  },
  {
   "cell_type": "code",
   "execution_count": 15,
   "metadata": {},
   "outputs": [],
   "source": [
    "Linear_pred = lin_reg.predict(X_test)\n",
    "Linear_acc = lin_reg.score(X_test, y_test)"
   ]
  },
  {
   "cell_type": "code",
   "execution_count": 16,
   "metadata": {},
   "outputs": [
    {
     "name": "stdout",
     "output_type": "stream",
     "text": [
      "[11135.73804883  9446.44007899 38866.31389769 16130.19841251\n",
      "  6829.59464758]\n",
      "0.7983507767817665\n"
     ]
    }
   ],
   "source": [
    "print(Linear_pred[:5])\n",
    "print(Linear_acc)"
   ]
  },
  {
   "cell_type": "code",
   "execution_count": 17,
   "metadata": {},
   "outputs": [
    {
     "data": {
      "image/png": "[encoded data removed]",
      "text/plain": [
       "<Figure size 432x288 with 1 Axes>"
      ]
     },
     "metadata": {
      "needs_background": "light"
     },
     "output_type": "display_data"
    },
    {
     "data": {
      "image/png": "[encoded data removed]",
      "text/plain": [
       "<Figure size 432x288 with 1 Axes>"
      ]
     },
     "metadata": {
      "needs_background": "light"
     },
     "output_type": "display_data"
    }
   ],
   "source": [
    "allarr = []\n",
    "for i in range(len(X_test)):\n",
    "    allarr.append(X_test[i][-2])\n",
    "\n",
    "plt.scatter(allarr, Linear_pred, c=\"blue\")\n",
    "plt.scatter(allarr, y_test, c=\"red\")\n",
    "plt.xlabel('age')\n",
    "plt.ylabel('charges')\n",
    "plt.show() \n",
    "\n",
    "allarr = []\n",
    "for i in range(len(X_test)):\n",
    "    allarr.append(X_test[i][-1])\n",
    "\n",
    "plt.scatter(allarr, Linear_pred, c=\"blue\")\n",
    "plt.scatter(allarr, y_test, c=\"red\")\n",
    "plt.xlabel('bmi')\n",
    "plt.ylabel('charges')\n",
    "plt.show() "
   ]
  },
  {
   "cell_type": "markdown",
   "metadata": {},
   "source": [
    "<h1>Grid_search<\\h1>"
   ]
  },
  {
   "cell_type": "code",
   "execution_count": 21,
   "metadata": {},
   "outputs": [
    {
     "name": "stdout",
     "output_type": "stream",
     "text": [
      "<class 'list'>\n"
     ]
    }
   ],
   "source": [
    "from sklearn.model_selection import GridSearchCV\n",
    "\n",
    "param_grid = [\n",
    "    # try 12 (3×4) combinations of hyperparameters\n",
    "    {'n_estimators': [3, 10, 30, 40],'max_features': [2, 4, 6, 8, 10, 12]},\n",
    "    # then try 6 (2×3) combinations with bootstrap set as False\n",
    "    {'bootstrap': [False], 'n_estimators': [3, 10, 30], 'max_features': [2, 3, 4, 5, 6]},\n",
    "]\n",
    "print(type(param_grid))"
   ]
  },
  {
   "cell_type": "code",
   "execution_count": 23,
   "metadata": {},
   "outputs": [
    {
     "data": {
      "text/plain": [
       "GridSearchCV(cv=5, error_score='raise-deprecating',\n",
       "             estimator=RandomForestRegressor(bootstrap=True, criterion='mse',\n",
       "                                             max_depth=None,\n",
       "                                             max_features='auto',\n",
       "                                             max_leaf_nodes=None,\n",
       "                                             min_impurity_decrease=0.0,\n",
       "                                             min_impurity_split=None,\n",
       "                                             min_samples_leaf=1,\n",
       "                                             min_samples_split=2,\n",
       "                                             min_weight_fraction_leaf=0.0,\n",
       "                                             n_estimators='warn', n_jobs=None,\n",
       "                                             oob_score=False, random_state=42,\n",
       "                                             verbose=0, warm_start=False),\n",
       "             iid='warn', n_jobs=None,\n",
       "             param_grid=[{'max_features': [2, 4, 6, 8, 10, 12],\n",
       "                          'n_estimators': [3, 10, 30, 40]},\n",
       "                         {'bootstrap': [False], 'max_features': [2, 3, 4, 5, 6],\n",
       "                          'n_estimators': [3, 10, 30]}],\n",
       "             pre_dispatch='2*n_jobs', refit=True, return_train_score=True,\n",
       "             scoring='neg_mean_squared_error', verbose=0)"
      ]
     },
     "execution_count": 23,
     "metadata": {},
     "output_type": "execute_result"
    }
   ],
   "source": [
    "from sklearn.ensemble import RandomForestRegressor\n",
    "forest_reg = RandomForestRegressor(random_state=42)\n",
    "grid_search = GridSearchCV(forest_reg, param_grid, cv=5, scoring='neg_mean_squared_error', return_train_score=True)\n",
    "grid_search.fit(X_train, y_train)"
   ]
  },
  {
   "cell_type": "code",
   "execution_count": 24,
   "metadata": {},
   "outputs": [
    {
     "data": {
      "text/plain": [
       "{'max_features': 6, 'n_estimators': 40}"
      ]
     },
     "execution_count": 24,
     "metadata": {},
     "output_type": "execute_result"
    }
   ],
   "source": [
    "grid_search.best_params_"
   ]
  },
  {
   "cell_type": "code",
   "execution_count": 25,
   "metadata": {},
   "outputs": [
    {
     "data": {
      "text/plain": [
       "{'cv': 5,\n",
       " 'error_score': 'raise-deprecating',\n",
       " 'estimator__bootstrap': True,\n",
       " 'estimator__criterion': 'mse',\n",
       " 'estimator__max_depth': None,\n",
       " 'estimator__max_features': 'auto',\n",
       " 'estimator__max_leaf_nodes': None,\n",
       " 'estimator__min_impurity_decrease': 0.0,\n",
       " 'estimator__min_impurity_split': None,\n",
       " 'estimator__min_samples_leaf': 1,\n",
       " 'estimator__min_samples_split': 2,\n",
       " 'estimator__min_weight_fraction_leaf': 0.0,\n",
       " 'estimator__n_estimators': 'warn',\n",
       " 'estimator__n_jobs': None,\n",
       " 'estimator__oob_score': False,\n",
       " 'estimator__random_state': 42,\n",
       " 'estimator__verbose': 0,\n",
       " 'estimator__warm_start': False,\n",
       " 'estimator': RandomForestRegressor(bootstrap=True, criterion='mse', max_depth=None,\n",
       "                       max_features='auto', max_leaf_nodes=None,\n",
       "                       min_impurity_decrease=0.0, min_impurity_split=None,\n",
       "                       min_samples_leaf=1, min_samples_split=2,\n",
       "                       min_weight_fraction_leaf=0.0, n_estimators='warn',\n",
       "                       n_jobs=None, oob_score=False, random_state=42, verbose=0,\n",
       "                       warm_start=False),\n",
       " 'iid': 'warn',\n",
       " 'n_jobs': None,\n",
       " 'param_grid': [{'n_estimators': [3, 10, 30, 40],\n",
       "   'max_features': [2, 4, 6, 8, 10, 12]},\n",
       "  {'bootstrap': [False],\n",
       "   'n_estimators': [3, 10, 30],\n",
       "   'max_features': [2, 3, 4, 5, 6]}],\n",
       " 'pre_dispatch': '2*n_jobs',\n",
       " 'refit': True,\n",
       " 'return_train_score': True,\n",
       " 'scoring': 'neg_mean_squared_error',\n",
       " 'verbose': 0}"
      ]
     },
     "execution_count": 25,
     "metadata": {},
     "output_type": "execute_result"
    }
   ],
   "source": [
    "grid_search.get_params()"
   ]
  },
  {
   "cell_type": "code",
   "execution_count": 26,
   "metadata": {},
   "outputs": [
    {
     "data": {
      "text/plain": [
       "array([8.24540746e-03, 9.35901159e-03, 7.88121119e-03, 6.17507665e-01,\n",
       "       8.25896299e-03, 8.82460368e-03, 4.80676167e-03, 4.60095829e-03,\n",
       "       4.13567086e-04, 9.20893396e-03, 1.41296833e-01, 1.79596084e-01])"
      ]
     },
     "execution_count": 26,
     "metadata": {},
     "output_type": "execute_result"
    }
   ],
   "source": [
    "feature_importances = grid_search.best_estimator_.feature_importances_\n",
    "feature_importances"
   ]
  },
  {
   "cell_type": "code",
   "execution_count": 29,
   "metadata": {},
   "outputs": [],
   "source": [
    "from sklearn.metrics import mean_squared_error\n",
    "final_model = grid_search.best_estimator_\n",
    "final_predictions = final_model.predict(X_test)\n",
    "\n",
    "final_mse = mean_squared_error(y_test, final_predictions)\n",
    "final_rmse = np.sqrt(final_mse)"
   ]
  },
  {
   "cell_type": "code",
   "execution_count": 30,
   "metadata": {},
   "outputs": [
    {
     "data": {
      "text/plain": [
       "4286.008677758236"
      ]
     },
     "execution_count": 30,
     "metadata": {},
     "output_type": "execute_result"
    }
   ],
   "source": [
    "final_rmse"
   ]
  },
  {
   "cell_type": "code",
   "execution_count": 31,
   "metadata": {},
   "outputs": [
    {
     "data": {
      "text/plain": [
       "0.8845605810637163"
      ]
     },
     "execution_count": 31,
     "metadata": {},
     "output_type": "execute_result"
    }
   ],
   "source": [
    "final_model.score(X_test, y_test)"
   ]
  },
  {
   "cell_type": "markdown",
   "metadata": {},
   "source": [
    "<h1>Random search<\\h1>"
   ]
  },
  {
   "cell_type": "code",
   "execution_count": 39,
   "metadata": {},
   "outputs": [
    {
     "data": {
      "text/plain": [
       "RandomizedSearchCV(cv=5, error_score='raise-deprecating',\n",
       "                   estimator=RandomForestRegressor(bootstrap=True,\n",
       "                                                   criterion='mse',\n",
       "                                                   max_depth=None,\n",
       "                                                   max_features='auto',\n",
       "                                                   max_leaf_nodes=None,\n",
       "                                                   min_impurity_decrease=0.0,\n",
       "                                                   min_impurity_split=None,\n",
       "                                                   min_samples_leaf=1,\n",
       "                                                   min_samples_split=2,\n",
       "                                                   min_weight_fraction_leaf=0.0,\n",
       "                                                   n_estimators='warn',\n",
       "                                                   n_jobs=None, oob_score=False,\n",
       "                                                   random_sta...\n",
       "                                                   warm_start=False),\n",
       "                   iid='warn', n_iter=40, n_jobs=None,\n",
       "                   param_distributions={'max_features': <scipy.stats._distn_infrastructure.rv_frozen object at 0x0000027BED58A9C8>,\n",
       "                                        'n_estimators': <scipy.stats._distn_infrastructure.rv_frozen object at 0x0000027BEDFBE0C8>},\n",
       "                   pre_dispatch='2*n_jobs', random_state=42, refit=True,\n",
       "                   return_train_score=False, scoring='neg_mean_squared_error',\n",
       "                   verbose=0)"
      ]
     },
     "execution_count": 39,
     "metadata": {},
     "output_type": "execute_result"
    }
   ],
   "source": [
    "# Random search\n",
    "from sklearn.model_selection import RandomizedSearchCV\n",
    "from scipy.stats import randint\n",
    "\n",
    "param_distribs = {\n",
    "    'n_estimators': randint(low=1, high=300),\n",
    "    'max_features': randint(low=1, high=12),\n",
    "}\n",
    "\n",
    "forest_reg = RandomForestRegressor(random_state=42)\n",
    "rnd_search = RandomizedSearchCV(forest_reg, param_distributions=param_distribs,\n",
    "                                n_iter=40, cv=5, scoring='neg_mean_squared_error', random_state=42)\n",
    "rnd_search.fit(X_train, y_train)"
   ]
  },
  {
   "cell_type": "code",
   "execution_count": 40,
   "metadata": {},
   "outputs": [
    {
     "data": {
      "text/plain": [
       "{'max_features': 5, 'n_estimators': 258}"
      ]
     },
     "execution_count": 40,
     "metadata": {},
     "output_type": "execute_result"
    }
   ],
   "source": [
    "rnd_search.best_params_"
   ]
  },
  {
   "cell_type": "code",
   "execution_count": 41,
   "metadata": {},
   "outputs": [
    {
     "data": {
      "text/plain": [
       "array([8.13788989e-03, 9.67602898e-03, 7.12688191e-03, 6.04981906e-01,\n",
       "       8.35274885e-03, 9.01439718e-03, 4.71626286e-03, 4.43242726e-03,\n",
       "       6.02669253e-04, 9.87896490e-03, 1.51517041e-01, 1.81562781e-01])"
      ]
     },
     "execution_count": 41,
     "metadata": {},
     "output_type": "execute_result"
    }
   ],
   "source": [
    "feature_importances = rnd_search.best_estimator_.feature_importances_\n",
    "feature_importances"
   ]
  },
  {
   "cell_type": "code",
   "execution_count": 42,
   "metadata": {},
   "outputs": [],
   "source": [
    "rnd_search_model = rnd_search.best_estimator_\n",
    "rnd_search_predictions = rnd_search_model.predict(X_test)\n",
    "\n",
    "rnd_search_mse = mean_squared_error(y_test, rnd_search_predictions)\n",
    "rnd_search_rmse = np.sqrt(rnd_search_mse)"
   ]
  },
  {
   "cell_type": "code",
   "execution_count": 43,
   "metadata": {},
   "outputs": [
    {
     "data": {
      "text/plain": [
       "0.8909714321915588"
      ]
     },
     "execution_count": 43,
     "metadata": {},
     "output_type": "execute_result"
    }
   ],
   "source": [
    "rnd_search_model.score(X_test, y_test)"
   ]
  },
  {
   "cell_type": "code",
   "execution_count": 45,
   "metadata": {},
   "outputs": [
    {
     "data": {
      "image/png": "[encoded data removed]",
      "text/plain": [
       "<Figure size 432x288 with 1 Axes>"
      ]
     },
     "metadata": {
      "needs_background": "light"
     },
     "output_type": "display_data"
    },
    {
     "data": {
      "image/png": "[encoded data removed]",
      "text/plain": [
       "<Figure size 432x288 with 1 Axes>"
      ]
     },
     "metadata": {
      "needs_background": "light"
     },
     "output_type": "display_data"
    }
   ],
   "source": [
    "allarr = []\n",
    "for i in range(len(X_test)):\n",
    "    allarr.append(X_test[i][-2])\n",
    "\n",
    "plt.scatter(allarr, rnd_search_predictions, c=\"blue\")\n",
    "plt.scatter(allarr, y_test, c=\"red\")\n",
    "plt.xlabel('age')\n",
    "plt.ylabel('charges')\n",
    "plt.show() \n",
    "\n",
    "allarr = []\n",
    "for i in range(len(X_test)):\n",
    "    allarr.append(X_test[i][-1])\n",
    "\n",
    "plt.scatter(allarr, rnd_search_predictions, c=\"blue\")\n",
    "plt.scatter(allarr, y_test, c=\"red\")\n",
    "plt.xlabel('bmi')\n",
    "plt.ylabel('charges')\n",
    "plt.show() "
   ]
  },
  {
   "cell_type": "markdown",
   "metadata": {},
   "source": [
    "<h1>OLS</h1>"
   ]
  },
  {
   "cell_type": "code",
   "execution_count": 15,
   "metadata": {},
   "outputs": [
    {
     "name": "stdout",
     "output_type": "stream",
     "text": [
      "[[1 1.0 0.0 0.0 1.0 0.0 0.0 0.0 0.0 0.0 1.0 52 27.36]\n",
      " [1 0.0 1.0 0.0 0.0 0.0 1.0 0.0 0.0 0.0 1.0 30 44.22]\n",
      " [1 1.0 0.0 0.0 0.0 0.0 1.0 0.0 0.0 0.0 1.0 19 27.265]\n",
      " [1 0.0 1.0 0.0 1.0 1.0 0.0 0.0 0.0 0.0 0.0 20 26.84]\n",
      " [1 0.0 1.0 0.0 1.0 0.0 0.0 0.0 0.0 0.0 0.0 27 24.75]]\n"
     ]
    }
   ],
   "source": [
    "# append 1 std\n",
    "X_train_std = np.append(arr=np.ones((len(X_train), 1)).astype(int), values=X_train, axis=1)\n",
    "print(X_train_std[:5])"
   ]
  },
  {
   "cell_type": "code",
   "execution_count": 16,
   "metadata": {},
   "outputs": [
    {
     "data": {
      "text/html": [
       "<table class=\"simpletable\">\n",
       "<caption>OLS Regression Results</caption>\n",
       "<tr>\n",
       "  <th>Dep. Variable:</th>            <td>y</td>        <th>  R-squared:         </th> <td>   0.743</td> \n",
       "</tr>\n",
       "<tr>\n",
       "  <th>Model:</th>                   <td>OLS</td>       <th>  Adj. R-squared:    </th> <td>   0.742</td> \n",
       "</tr>\n",
       "<tr>\n",
       "  <th>Method:</th>             <td>Least Squares</td>  <th>  F-statistic:       </th> <td>   654.1</td> \n",
       "</tr>\n",
       "<tr>\n",
       "  <th>Date:</th>             <td>Sat, 26 Dec 2020</td> <th>  Prob (F-statistic):</th>  <td>  0.00</td>  \n",
       "</tr>\n",
       "<tr>\n",
       "  <th>Time:</th>                 <td>23:34:20</td>     <th>  Log-Likelihood:    </th> <td> -11526.</td> \n",
       "</tr>\n",
       "<tr>\n",
       "  <th>No. Observations:</th>      <td>  1137</td>      <th>  AIC:               </th> <td>2.306e+04</td>\n",
       "</tr>\n",
       "<tr>\n",
       "  <th>Df Residuals:</th>          <td>  1131</td>      <th>  BIC:               </th> <td>2.309e+04</td>\n",
       "</tr>\n",
       "<tr>\n",
       "  <th>Df Model:</th>              <td>     5</td>      <th>                     </th>     <td> </td>    \n",
       "</tr>\n",
       "<tr>\n",
       "  <th>Covariance Type:</th>      <td>nonrobust</td>    <th>                     </th>     <td> </td>    \n",
       "</tr>\n",
       "</table>\n",
       "<table class=\"simpletable\">\n",
       "<tr>\n",
       "    <td></td>       <th>coef</th>     <th>std err</th>      <th>t</th>      <th>P>|t|</th>  <th>[0.025</th>    <th>0.975]</th>  \n",
       "</tr>\n",
       "<tr>\n",
       "  <th>const</th> <td> -1.18e+04</td> <td> 1019.644</td> <td>  -11.574</td> <td> 0.000</td> <td>-1.38e+04</td> <td>-9801.123</td>\n",
       "</tr>\n",
       "<tr>\n",
       "  <th>x1</th>    <td> 2.375e+04</td> <td>  452.561</td> <td>   52.476</td> <td> 0.000</td> <td> 2.29e+04</td> <td> 2.46e+04</td>\n",
       "</tr>\n",
       "<tr>\n",
       "  <th>x2</th>    <td> 1563.9213</td> <td>  478.262</td> <td>    3.270</td> <td> 0.001</td> <td>  625.542</td> <td> 2502.301</td>\n",
       "</tr>\n",
       "<tr>\n",
       "  <th>x3</th>    <td> 2918.6207</td> <td> 1296.010</td> <td>    2.252</td> <td> 0.025</td> <td>  375.767</td> <td> 5461.474</td>\n",
       "</tr>\n",
       "<tr>\n",
       "  <th>x4</th>    <td>  262.5905</td> <td>   13.016</td> <td>   20.174</td> <td> 0.000</td> <td>  237.052</td> <td>  288.129</td>\n",
       "</tr>\n",
       "<tr>\n",
       "  <th>x5</th>    <td>  314.2068</td> <td>   29.904</td> <td>   10.507</td> <td> 0.000</td> <td>  255.533</td> <td>  372.881</td>\n",
       "</tr>\n",
       "</table>\n",
       "<table class=\"simpletable\">\n",
       "<tr>\n",
       "  <th>Omnibus:</th>       <td>258.397</td> <th>  Durbin-Watson:     </th> <td>   2.083</td> \n",
       "</tr>\n",
       "<tr>\n",
       "  <th>Prob(Omnibus):</th> <td> 0.000</td>  <th>  Jarque-Bera (JB):  </th> <td> 618.458</td> \n",
       "</tr>\n",
       "<tr>\n",
       "  <th>Skew:</th>          <td> 1.218</td>  <th>  Prob(JB):          </th> <td>5.05e-135</td>\n",
       "</tr>\n",
       "<tr>\n",
       "  <th>Kurtosis:</th>      <td> 5.668</td>  <th>  Cond. No.          </th> <td>    365.</td> \n",
       "</tr>\n",
       "</table><br/><br/>Notes:<br/>[1] Standard Errors assume that the covariance matrix of the errors is correctly specified."
      ],
      "text/plain": [
       "<class 'statsmodels.iolib.summary.Summary'>\n",
       "\"\"\"\n",
       "                            OLS Regression Results                            \n",
       "==============================================================================\n",
       "Dep. Variable:                      y   R-squared:                       0.743\n",
       "Model:                            OLS   Adj. R-squared:                  0.742\n",
       "Method:                 Least Squares   F-statistic:                     654.1\n",
       "Date:                Sat, 26 Dec 2020   Prob (F-statistic):               0.00\n",
       "Time:                        23:34:20   Log-Likelihood:                -11526.\n",
       "No. Observations:                1137   AIC:                         2.306e+04\n",
       "Df Residuals:                    1131   BIC:                         2.309e+04\n",
       "Df Model:                           5                                         \n",
       "Covariance Type:            nonrobust                                         \n",
       "==============================================================================\n",
       "                 coef    std err          t      P>|t|      [0.025      0.975]\n",
       "------------------------------------------------------------------------------\n",
       "const       -1.18e+04   1019.644    -11.574      0.000   -1.38e+04   -9801.123\n",
       "x1          2.375e+04    452.561     52.476      0.000    2.29e+04    2.46e+04\n",
       "x2          1563.9213    478.262      3.270      0.001     625.542    2502.301\n",
       "x3          2918.6207   1296.010      2.252      0.025     375.767    5461.474\n",
       "x4           262.5905     13.016     20.174      0.000     237.052     288.129\n",
       "x5           314.2068     29.904     10.507      0.000     255.533     372.881\n",
       "==============================================================================\n",
       "Omnibus:                      258.397   Durbin-Watson:                   2.083\n",
       "Prob(Omnibus):                  0.000   Jarque-Bera (JB):              618.458\n",
       "Skew:                           1.218   Prob(JB):                    5.05e-135\n",
       "Kurtosis:                       5.668   Cond. No.                         365.\n",
       "==============================================================================\n",
       "\n",
       "Notes:\n",
       "[1] Standard Errors assume that the covariance matrix of the errors is correctly specified.\n",
       "\"\"\""
      ]
     },
     "execution_count": 16,
     "metadata": {},
     "output_type": "execute_result"
    }
   ],
   "source": [
    "# try to optimize model\n",
    "X_opt = X_train_std[:, [0, 4, 6, 8, 11, 12]]\n",
    "X_opt = np.array(X_opt, dtype=float)\n",
    "\n",
    "# sm.OLS()\n",
    "regressor_OLS = sm.OLS(endog=y_train, exog=X_opt).fit()\n",
    "regressor_OLS.summary()"
   ]
  },
  {
   "cell_type": "code",
   "execution_count": 17,
   "metadata": {},
   "outputs": [],
   "source": [
    "X_train_opt = X_train[:, [3, 5, 7, 10, 11]]    # select opt's columns\n",
    "X_test_opt = X_test[:, [3, 5, 7, 10, 11]]   # select opt's columns correspond train"
   ]
  },
  {
   "cell_type": "code",
   "execution_count": 18,
   "metadata": {},
   "outputs": [
    {
     "data": {
      "text/plain": [
       "LinearRegression()"
      ]
     },
     "execution_count": 18,
     "metadata": {},
     "output_type": "execute_result"
    }
   ],
   "source": [
    "poly_reg = PolynomialFeatures(degree=7)    # degree=1 >> b + bX1  ==  linear\n",
    "X_poly = poly_reg.fit_transform(X_train_opt)\n",
    "\n",
    "poly_reg_opt = LinearRegression()\n",
    "poly_reg_opt.fit(X_poly, y_train)"
   ]
  },
  {
   "cell_type": "code",
   "execution_count": 19,
   "metadata": {},
   "outputs": [],
   "source": [
    "Poly_pred_opt = poly_reg_opt.predict(poly_reg.fit_transform(X_test_opt))\n",
    "Poly_acc_opt = poly_reg_opt.score(poly_reg.fit_transform(X_test_opt), y_test)"
   ]
  },
  {
   "cell_type": "code",
   "execution_count": 20,
   "metadata": {},
   "outputs": [
    {
     "name": "stdout",
     "output_type": "stream",
     "text": [
      "8478.63934439901\n",
      "-2.724277459523115\n"
     ]
    }
   ],
   "source": [
    "print(Poly_pred_opt[0])\n",
    "print(Poly_acc_opt)"
   ]
  },
  {
   "cell_type": "code",
   "execution_count": 21,
   "metadata": {},
   "outputs": [
    {
     "data": {
      "image/png": "[encoded data removed]",
      "text/plain": [
       "<Figure size 432x288 with 1 Axes>"
      ]
     },
     "metadata": {
      "needs_background": "light"
     },
     "output_type": "display_data"
    },
    {
     "data": {
      "image/png": "[encoded data removed]",
      "text/plain": [
       "<Figure size 432x288 with 1 Axes>"
      ]
     },
     "metadata": {
      "needs_background": "light"
     },
     "output_type": "display_data"
    }
   ],
   "source": [
    "allarr = []\n",
    "for i in range(len(X_test_opt)):\n",
    "    allarr.append(X_test_opt[i][-2])\n",
    "\n",
    "plt.scatter(allarr, Poly_pred_opt, c=\"blue\")\n",
    "plt.scatter(allarr, y_test, c=\"red\")\n",
    "plt.xlabel('age')\n",
    "plt.ylabel('charges')\n",
    "plt.show() \n",
    "\n",
    "allarr = []\n",
    "for i in range(len(X_test_opt)):\n",
    "    allarr.append(X_test_opt[i][-1])\n",
    "\n",
    "plt.scatter(allarr, Poly_pred_opt, c=\"blue\")\n",
    "plt.scatter(allarr, y_test, c=\"red\")\n",
    "plt.xlabel('bmi')\n",
    "plt.ylabel('charges')\n",
    "plt.show() "
   ]
  },
  {
   "cell_type": "code",
   "execution_count": 22,
   "metadata": {},
   "outputs": [
    {
     "data": {
      "text/plain": [
       "LinearRegression()"
      ]
     },
     "execution_count": 22,
     "metadata": {},
     "output_type": "execute_result"
    }
   ],
   "source": [
    "\n",
    "# do linear regression\n",
    "linear_reg_opt = LinearRegression()\n",
    "linear_reg_opt.fit(X_train_opt, y_train)\n",
    "# than we can find the performance better than previous model's"
   ]
  },
  {
   "cell_type": "code",
   "execution_count": 23,
   "metadata": {},
   "outputs": [],
   "source": [
    "Linear_pred_opt = linear_reg_opt.predict(X_test_opt)\n",
    "Linear_acc_opt = linear_reg_opt.score(X_test_opt, y_test)"
   ]
  },
  {
   "cell_type": "code",
   "execution_count": 24,
   "metadata": {},
   "outputs": [
    {
     "name": "stdout",
     "output_type": "stream",
     "text": [
      "[ 9488.92223371  7084.01850834 37200.20448435  8366.68933902\n",
      " 26965.66296614]\n",
      "0.7874567108932204\n"
     ]
    }
   ],
   "source": [
    "print(Linear_pred_opt[:5])\n",
    "print(Linear_acc_opt)"
   ]
  },
  {
   "cell_type": "code",
   "execution_count": 25,
   "metadata": {},
   "outputs": [
    {
     "data": {
      "image/png": "[encoded data removed]",
      "text/plain": [
       "<Figure size 432x288 with 1 Axes>"
      ]
     },
     "metadata": {
      "needs_background": "light"
     },
     "output_type": "display_data"
    },
    {
     "data": {
      "image/png": "[encoded data removed]",
      "text/plain": [
       "<Figure size 432x288 with 1 Axes>"
      ]
     },
     "metadata": {
      "needs_background": "light"
     },
     "output_type": "display_data"
    }
   ],
   "source": [
    "allarr = []\n",
    "for i in range(len(X_test_opt)):\n",
    "    allarr.append(X_test_opt[i][-2])\n",
    "\n",
    "plt.scatter(allarr, Linear_pred_opt, c=\"blue\")\n",
    "plt.scatter(allarr, y_test, c=\"red\")\n",
    "plt.xlabel('age')\n",
    "plt.ylabel('charges')\n",
    "plt.show() \n",
    "\n",
    "allarr = []\n",
    "for i in range(len(X_test_opt)):\n",
    "    allarr.append(X_test_opt[i][-1])\n",
    "\n",
    "plt.scatter(allarr, Linear_pred_opt, c=\"blue\")\n",
    "plt.scatter(allarr, y_test, c=\"red\")\n",
    "plt.xlabel('bmi')\n",
    "plt.ylabel('charges')\n",
    "plt.show() "
   ]
  },
  {
   "cell_type": "markdown",
   "metadata": {},
   "source": [
    "<h1>SVR</h1>"
   ]
  },
  {
   "cell_type": "code",
   "execution_count": 26,
   "metadata": {},
   "outputs": [
    {
     "data": {
      "text/plain": [
       "SVR(degree=5)"
      ]
     },
     "execution_count": 26,
     "metadata": {},
     "output_type": "execute_result"
    }
   ],
   "source": [
    "sv_reg = SVR(kernel='rbf', degree=5)\n",
    "sv_reg.fit(X_train, y_train)"
   ]
  },
  {
   "cell_type": "code",
   "execution_count": 27,
   "metadata": {},
   "outputs": [],
   "source": [
    "Sv_pred = sv_reg.predict(X_test)\n",
    "Sv_acc = sv_reg.score(X_test, y_test)"
   ]
  },
  {
   "cell_type": "code",
   "execution_count": 28,
   "metadata": {},
   "outputs": [
    {
     "name": "stdout",
     "output_type": "stream",
     "text": [
      "9442.350556706071\n",
      "-0.08661625023160391\n"
     ]
    }
   ],
   "source": [
    "print(Sv_pred[5])\n",
    "print(Sv_acc)"
   ]
  },
  {
   "cell_type": "code",
   "execution_count": 29,
   "metadata": {},
   "outputs": [
    {
     "data": {
      "image/png": "[encoded data removed]",
      "text/plain": [
       "<Figure size 432x288 with 1 Axes>"
      ]
     },
     "metadata": {
      "needs_background": "light"
     },
     "output_type": "display_data"
    },
    {
     "data": {
      "image/png": "[encoded data removed]",
      "text/plain": [
       "<Figure size 432x288 with 1 Axes>"
      ]
     },
     "metadata": {
      "needs_background": "light"
     },
     "output_type": "display_data"
    }
   ],
   "source": [
    "allarr = []\n",
    "for i in range(len(X_test)):\n",
    "    allarr.append(X_test[i][-2])\n",
    "\n",
    "plt.scatter(allarr, Sv_pred, c=\"blue\")\n",
    "plt.scatter(allarr, y_test, c=\"red\")\n",
    "plt.xlabel('age')\n",
    "plt.ylabel('charges')\n",
    "plt.show() \n",
    "\n",
    "allarr = []\n",
    "for i in range(len(X_test)):\n",
    "    allarr.append(X_test[i][-1])\n",
    "\n",
    "plt.scatter(allarr, Sv_pred, c=\"blue\")\n",
    "plt.scatter(allarr, y_test, c=\"red\")\n",
    "plt.xlabel('bmi')\n",
    "plt.ylabel('charges')\n",
    "plt.show() "
   ]
  },
  {
   "cell_type": "markdown",
   "metadata": {},
   "source": [
    "<h1>mean_squared_error</h1>"
   ]
  },
  {
   "cell_type": "code",
   "execution_count": 30,
   "metadata": {},
   "outputs": [
    {
     "name": "stdout",
     "output_type": "stream",
     "text": [
      "6218035.635186677\n",
      "5614.155416431429\n",
      "23813.5943386981\n",
      "5688.89129775043\n",
      "12862.993042103617\n"
     ]
    }
   ],
   "source": [
    "from sklearn.metrics import mean_squared_error\n",
    "print(np.sqrt(mean_squared_error(y_test, Poly_pred)))\n",
    "print(np.sqrt(mean_squared_error(y_test, Linear_pred)))\n",
    "print(np.sqrt(mean_squared_error(y_test, Poly_pred_opt)))\n",
    "print(np.sqrt(mean_squared_error(y_test, Linear_pred_opt)))\n",
    "print(np.sqrt(mean_squared_error(y_test, Sv_pred)))"
   ]
  },
  {
   "cell_type": "code",
   "execution_count": null,
   "metadata": {},
   "outputs": [],
   "source": []
  }
 ],
 "metadata": {
  "kernelspec": {
   "display_name": "Python 3",
   "language": "python",
   "name": "python3"
  },
  "language_info": {
   "codemirror_mode": {
    "name": "ipython",
    "version": 3
   },
   "file_extension": ".py",
   "mimetype": "text/x-python",
   "name": "python",
   "nbconvert_exporter": "python",
   "pygments_lexer": "ipython3",
   "version": "3.8.5"
  }
 },
 "nbformat": 4,
 "nbformat_minor": 4
}
