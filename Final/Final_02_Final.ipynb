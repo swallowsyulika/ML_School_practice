{
 "cells": [
  {
   "cell_type": "code",
   "execution_count": 1,
   "metadata": {},
   "outputs": [
    {
     "ename": "ModuleNotFoundError",
     "evalue": "No module named 'seaborn'",
     "output_type": "error",
     "traceback": [
      "\u001b[1;31m---------------------------------------------------------------------------\u001b[0m",
      "\u001b[1;31mModuleNotFoundError\u001b[0m                       Traceback (most recent call last)",
      "\u001b[1;32m<ipython-input-1-9fbc78351659>\u001b[0m in \u001b[0;36m<module>\u001b[1;34m\u001b[0m\n\u001b[0;32m     14\u001b[0m \u001b[1;32mimport\u001b[0m \u001b[0mstatsmodels\u001b[0m\u001b[1;33m.\u001b[0m\u001b[0mapi\u001b[0m \u001b[1;32mas\u001b[0m \u001b[0msm\u001b[0m\u001b[1;33m\u001b[0m\u001b[1;33m\u001b[0m\u001b[0m\n\u001b[0;32m     15\u001b[0m \u001b[1;32mfrom\u001b[0m \u001b[0msklearn\u001b[0m\u001b[1;33m.\u001b[0m\u001b[0mmetrics\u001b[0m \u001b[1;32mimport\u001b[0m \u001b[0mconfusion_matrix\u001b[0m\u001b[1;33m\u001b[0m\u001b[1;33m\u001b[0m\u001b[0m\n\u001b[1;32m---> 16\u001b[1;33m \u001b[1;32mimport\u001b[0m \u001b[0mseaborn\u001b[0m \u001b[1;32mas\u001b[0m \u001b[0msns\u001b[0m\u001b[1;33m\u001b[0m\u001b[1;33m\u001b[0m\u001b[0m\n\u001b[0m",
      "\u001b[1;31mModuleNotFoundError\u001b[0m: No module named 'seaborn'"
     ]
    }
   ],
   "source": [
    "import numpy as np\n",
    "import pandas as pd\n",
    "import matplotlib.pyplot as plt\n",
    "from sklearn.preprocessing import OneHotEncoder, StandardScaler, LabelEncoder\n",
    "from sklearn.compose import ColumnTransformer\n",
    "from sklearn.impute import SimpleImputer \n",
    "from sklearn.model_selection import train_test_split, GridSearchCV, RandomizedSearchCV\n",
    "from sklearn.linear_model import LogisticRegression\n",
    "from sklearn.svm import SVC\n",
    "from sklearn.tree import DecisionTreeClassifier\n",
    "from sklearn.ensemble import RandomForestClassifier\n",
    "from sklearn.metrics import mean_squared_error\n",
    "from scipy.stats import randint\n",
    "import statsmodels.api as sm\n",
    "from sklearn.metrics import confusion_matrix\n",
    "import seaborn as sns"
   ]
  },
  {
   "cell_type": "code",
   "execution_count": 2,
   "metadata": {},
   "outputs": [],
   "source": [
    "def DealMissingData(X, dfX):\n",
    "    ''' deal with missing data\n",
    "        X: data, type(numpy array)\n",
    "        dfX: same as X data, type(pandas array) '''\n",
    "    \n",
    "    print(\"----------- Start deal missing data -----------\")\n",
    "    TFarr = np.array(dfX.isna().any())\n",
    "    for index, ele in enumerate(TFarr):\n",
    "        if ele:\n",
    "            if isinstance(X[0][index], str):\n",
    "                # deal with string data\n",
    "                imputer = SimpleImputer(missing_values=np.nan, strategy='most_frequent')\n",
    "                imputer.fit(X[:, [index]])\n",
    "                X[:, [index]] = imputer.transform(X[:, [index]])\n",
    "            else:\n",
    "                # deal with digital data\n",
    "                imputer = SimpleImputer(missing_values=np.nan, strategy='mean')\n",
    "                imputer.fit(X[:, [index]])\n",
    "                X[:, [index]] = imputer.transform(X[:, [index]])\n",
    "            print(f\"column {index} have missing data, fixed!\")\n",
    "        else:\n",
    "            print(f\"column {index} not have missing data\")\n",
    "            \n",
    "    print(\"----------- End deal missing data! -----------\")\n",
    "    return X"
   ]
  },
  {
   "cell_type": "code",
   "execution_count": 3,
   "metadata": {},
   "outputs": [],
   "source": [
    "def MakeOneHot(X, column_name, pos={}):\n",
    "    ''' make one-hot  \n",
    "        X: data, type(numpy array)\n",
    "        pos: where need to onehot, type(dictionary) '''\n",
    "    \n",
    "    print(\"----------- Start onehot -----------\")\n",
    "    FeaturesNum = len(X[0])    # init\n",
    "    if bool(pos):\n",
    "        # custom onehot (onehot pos that u want to)\n",
    "        for key in pos:\n",
    "            print(f\"{FeaturesNum-pos[key]} column need to one-hot, fixed!\")\n",
    "            ct = ColumnTransformer([(key, OneHotEncoder(), [FeaturesNum-pos[key]])], remainder='passthrough')\n",
    "            NewX = ct.fit_transform(X)\n",
    "            X = NewX[:, 1:]\n",
    "            FeaturesNum = len(X[0])\n",
    "    else:\n",
    "        # auto onehot (only onehot string cols)\n",
    "        i = 0\n",
    "        cn = list(column_name)\n",
    "        while i < FeaturesNum:\n",
    "            if isinstance(X[0][i], str):\n",
    "                print(f\"{i} column need to one-hot, fixed!\")\n",
    "                label = cn.pop(i)\n",
    "                print(label)\n",
    "                ct = ColumnTransformer([(str(i), OneHotEncoder(), [i])], remainder='passthrough')\n",
    "                ct_X = ct.fit_transform(X)\n",
    "                NewX = ct_X[:, 1:]\n",
    "                OneHotLabel = ct.named_transformers_[str(i)]\n",
    "                for num in range(len(OneHotLabel.categories_[0])-1):\n",
    "                    cn.insert(num,label+str(num+1))\n",
    "                i += len(NewX[0]) - len(X[0])\n",
    "                X = NewX\n",
    "                FeaturesNum = len(X[0])\n",
    "            i += 1\n",
    "    print(\"----------- End onehot -----------\")\n",
    "    \n",
    "    return X,cn"
   ]
  },
  {
   "cell_type": "code",
   "execution_count": 4,
   "metadata": {},
   "outputs": [],
   "source": [
    "def NormalizeData(data_train, data_test):\n",
    "    ''' normalize data\n",
    "        data_train: training data, type(numpy array)\n",
    "        data_test: testing data, type(numpy array) '''\n",
    "    \n",
    "    print(\"----------- Start normalize -----------\")\n",
    "    sc = StandardScaler()\n",
    "    data_train = sc.fit_transform(data_train)\n",
    "    data_test = sc.transform(data_test)\n",
    "    \n",
    "    print(\"----------- End normalize -----------\")\n",
    "    return data_train, data_test"
   ]
  },
  {
   "cell_type": "code",
   "execution_count": 6,
   "metadata": {},
   "outputs": [],
   "source": [
    "def DrawPredict(gt, pred, title):\n",
    "    ''' data [[groundTruth, predict], [], ....]'''\n",
    "    \n",
    "    data = []\n",
    "    for i in range(len(gt)):\n",
    "        data.append([gt[i], pred[i]])\n",
    "        \n",
    "    data.sort(key=lambda x:x[0])\n",
    "    for index, ele in enumerate(data):\n",
    "        plt.scatter(index, data[index][1], c=\"blue\", s=0.7)\n",
    "        plt.scatter(index, data[index][0], c=\"red\", s=0.7)\n",
    "    plt.xlabel(\"dataNums\")\n",
    "    plt.ylabel(\"charges\")\n",
    "    plt.title(title)\n",
    "    plt.show() "
   ]
  },
  {
   "cell_type": "code",
   "execution_count": 7,
   "metadata": {},
   "outputs": [],
   "source": [
    "def TrainAndTestModel(model, X_train, y_train, X_test, y_test, title, want_fit_model=False):\n",
    "    if want_fit_model:\n",
    "        model.fit(X_train, y_train)\n",
    "    \n",
    "    train_pred = model.predict(X_train)\n",
    "    train_acc = model.score(X_train, y_train)\n",
    "    #train_rmse = np.sqrt(mean_squared_error(y_train, train_pred))\n",
    "    #DrawPredict(y_train, train_pred, title+\"_Train\" + \"\\n\" + f\"ACC: {train_acc}\")\n",
    "    \n",
    "    test_pred = model.predict(X_test)\n",
    "    test_acc = model.score(X_test, y_test)\n",
    "    #test_rmse = np.sqrt(mean_squared_error(y_test, test_pred))\n",
    "    #DrawPredict(y_test, test_pred, title+\"_Test\" + \"\\n\" + f\"ACC: {test_acc}\")\n",
    "    \n",
    "    train_cm = confusion_matrix(y_train, train_pred)\n",
    "    test_cm = confusion_matrix(y_test, test_pred)\n",
    "    print('train_cm: ','\\n',train_cm,'\\n')\n",
    "    print('test_cm: ','\\n',test_cm,'\\n')\n",
    "    print('train_acc: ',train_acc)\n",
    "    print('test_acc: ',test_acc)\n",
    "    train_cm_matrix = pd.DataFrame(data=train_cm, columns=['Actual Positive:1', 'Actual Negative:0'], \n",
    "                                 index=['Predict Positive:1', 'Predict Negative:0'])\n",
    "    test_cm_matrix = pd.DataFrame(data=test_cm, columns=['Actual Positive:1', 'Actual Negative:0'], \n",
    "                                 index=['Predict Positive:1', 'Predict Negative:0'])\n",
    "    \n",
    "    \n",
    "    \n",
    "    return model,train_cm_matrix,test_cm_matrix"
   ]
  },
  {
   "cell_type": "code",
   "execution_count": 8,
   "metadata": {},
   "outputs": [],
   "source": [
    "def show_cm(train_cm='',test_cm=''):\n",
    "        sns.heatmap(train_cm, annot=True, fmt='d', cmap='viridis')"
   ]
  },
  {
   "cell_type": "code",
   "execution_count": 9,
   "metadata": {},
   "outputs": [
    {
     "data": {
      "text/html": [
       "<div>\n",
       "<style scoped>\n",
       "    .dataframe tbody tr th:only-of-type {\n",
       "        vertical-align: middle;\n",
       "    }\n",
       "\n",
       "    .dataframe tbody tr th {\n",
       "        vertical-align: top;\n",
       "    }\n",
       "\n",
       "    .dataframe thead th {\n",
       "        text-align: right;\n",
       "    }\n",
       "</style>\n",
       "<table border=\"1\" class=\"dataframe\">\n",
       "  <thead>\n",
       "    <tr style=\"text-align: right;\">\n",
       "      <th></th>\n",
       "      <th>Date</th>\n",
       "      <th>Location</th>\n",
       "      <th>MinTemp</th>\n",
       "      <th>MaxTemp</th>\n",
       "      <th>Rainfall</th>\n",
       "      <th>Evaporation</th>\n",
       "      <th>Sunshine</th>\n",
       "      <th>WindGustDir</th>\n",
       "      <th>WindGustSpeed</th>\n",
       "      <th>WindDir9am</th>\n",
       "      <th>...</th>\n",
       "      <th>Humidity9am</th>\n",
       "      <th>Humidity3pm</th>\n",
       "      <th>Pressure9am</th>\n",
       "      <th>Pressure3pm</th>\n",
       "      <th>Cloud9am</th>\n",
       "      <th>Cloud3pm</th>\n",
       "      <th>Temp9am</th>\n",
       "      <th>Temp3pm</th>\n",
       "      <th>RainToday</th>\n",
       "      <th>RainTomorrow</th>\n",
       "    </tr>\n",
       "  </thead>\n",
       "  <tbody>\n",
       "    <tr>\n",
       "      <th>0</th>\n",
       "      <td>2008/12/1</td>\n",
       "      <td>Albury</td>\n",
       "      <td>13.4</td>\n",
       "      <td>22.9</td>\n",
       "      <td>0.6</td>\n",
       "      <td>NaN</td>\n",
       "      <td>NaN</td>\n",
       "      <td>W</td>\n",
       "      <td>44.0</td>\n",
       "      <td>W</td>\n",
       "      <td>...</td>\n",
       "      <td>71.0</td>\n",
       "      <td>22.0</td>\n",
       "      <td>1007.7</td>\n",
       "      <td>1007.1</td>\n",
       "      <td>8.0</td>\n",
       "      <td>NaN</td>\n",
       "      <td>16.9</td>\n",
       "      <td>21.8</td>\n",
       "      <td>No</td>\n",
       "      <td>No</td>\n",
       "    </tr>\n",
       "    <tr>\n",
       "      <th>1</th>\n",
       "      <td>2008/12/2</td>\n",
       "      <td>Albury</td>\n",
       "      <td>7.4</td>\n",
       "      <td>25.1</td>\n",
       "      <td>0.0</td>\n",
       "      <td>NaN</td>\n",
       "      <td>NaN</td>\n",
       "      <td>WNW</td>\n",
       "      <td>44.0</td>\n",
       "      <td>NNW</td>\n",
       "      <td>...</td>\n",
       "      <td>44.0</td>\n",
       "      <td>25.0</td>\n",
       "      <td>1010.6</td>\n",
       "      <td>1007.8</td>\n",
       "      <td>NaN</td>\n",
       "      <td>NaN</td>\n",
       "      <td>17.2</td>\n",
       "      <td>24.3</td>\n",
       "      <td>No</td>\n",
       "      <td>No</td>\n",
       "    </tr>\n",
       "    <tr>\n",
       "      <th>2</th>\n",
       "      <td>2008/12/3</td>\n",
       "      <td>Albury</td>\n",
       "      <td>12.9</td>\n",
       "      <td>25.7</td>\n",
       "      <td>0.0</td>\n",
       "      <td>NaN</td>\n",
       "      <td>NaN</td>\n",
       "      <td>WSW</td>\n",
       "      <td>46.0</td>\n",
       "      <td>W</td>\n",
       "      <td>...</td>\n",
       "      <td>38.0</td>\n",
       "      <td>30.0</td>\n",
       "      <td>1007.6</td>\n",
       "      <td>1008.7</td>\n",
       "      <td>NaN</td>\n",
       "      <td>2.0</td>\n",
       "      <td>21.0</td>\n",
       "      <td>23.2</td>\n",
       "      <td>No</td>\n",
       "      <td>No</td>\n",
       "    </tr>\n",
       "    <tr>\n",
       "      <th>3</th>\n",
       "      <td>2008/12/4</td>\n",
       "      <td>Albury</td>\n",
       "      <td>9.2</td>\n",
       "      <td>28.0</td>\n",
       "      <td>0.0</td>\n",
       "      <td>NaN</td>\n",
       "      <td>NaN</td>\n",
       "      <td>NE</td>\n",
       "      <td>24.0</td>\n",
       "      <td>SE</td>\n",
       "      <td>...</td>\n",
       "      <td>45.0</td>\n",
       "      <td>16.0</td>\n",
       "      <td>1017.6</td>\n",
       "      <td>1012.8</td>\n",
       "      <td>NaN</td>\n",
       "      <td>NaN</td>\n",
       "      <td>18.1</td>\n",
       "      <td>26.5</td>\n",
       "      <td>No</td>\n",
       "      <td>No</td>\n",
       "    </tr>\n",
       "    <tr>\n",
       "      <th>4</th>\n",
       "      <td>2008/12/5</td>\n",
       "      <td>Albury</td>\n",
       "      <td>17.5</td>\n",
       "      <td>32.3</td>\n",
       "      <td>1.0</td>\n",
       "      <td>NaN</td>\n",
       "      <td>NaN</td>\n",
       "      <td>W</td>\n",
       "      <td>41.0</td>\n",
       "      <td>ENE</td>\n",
       "      <td>...</td>\n",
       "      <td>82.0</td>\n",
       "      <td>33.0</td>\n",
       "      <td>1010.8</td>\n",
       "      <td>1006.0</td>\n",
       "      <td>7.0</td>\n",
       "      <td>8.0</td>\n",
       "      <td>17.8</td>\n",
       "      <td>29.7</td>\n",
       "      <td>No</td>\n",
       "      <td>No</td>\n",
       "    </tr>\n",
       "  </tbody>\n",
       "</table>\n",
       "<p>5 rows × 23 columns</p>\n",
       "</div>"
      ],
      "text/plain": [
       "        Date Location  MinTemp  MaxTemp  Rainfall  Evaporation  Sunshine  \\\n",
       "0  2008/12/1   Albury     13.4     22.9       0.6          NaN       NaN   \n",
       "1  2008/12/2   Albury      7.4     25.1       0.0          NaN       NaN   \n",
       "2  2008/12/3   Albury     12.9     25.7       0.0          NaN       NaN   \n",
       "3  2008/12/4   Albury      9.2     28.0       0.0          NaN       NaN   \n",
       "4  2008/12/5   Albury     17.5     32.3       1.0          NaN       NaN   \n",
       "\n",
       "  WindGustDir  WindGustSpeed WindDir9am  ... Humidity9am  Humidity3pm  \\\n",
       "0           W           44.0          W  ...        71.0         22.0   \n",
       "1         WNW           44.0        NNW  ...        44.0         25.0   \n",
       "2         WSW           46.0          W  ...        38.0         30.0   \n",
       "3          NE           24.0         SE  ...        45.0         16.0   \n",
       "4           W           41.0        ENE  ...        82.0         33.0   \n",
       "\n",
       "   Pressure9am  Pressure3pm  Cloud9am  Cloud3pm  Temp9am  Temp3pm  RainToday  \\\n",
       "0       1007.7       1007.1       8.0       NaN     16.9     21.8         No   \n",
       "1       1010.6       1007.8       NaN       NaN     17.2     24.3         No   \n",
       "2       1007.6       1008.7       NaN       2.0     21.0     23.2         No   \n",
       "3       1017.6       1012.8       NaN       NaN     18.1     26.5         No   \n",
       "4       1010.8       1006.0       7.0       8.0     17.8     29.7         No   \n",
       "\n",
       "   RainTomorrow  \n",
       "0            No  \n",
       "1            No  \n",
       "2            No  \n",
       "3            No  \n",
       "4            No  \n",
       "\n",
       "[5 rows x 23 columns]"
      ]
     },
     "execution_count": 9,
     "metadata": {},
     "output_type": "execute_result"
    }
   ],
   "source": [
    "df = pd.read_csv(\"./dataset/final_project_dataset_2.csv\")\n",
    "df.head(5)"
   ]
  },
  {
   "cell_type": "code",
   "execution_count": 10,
   "metadata": {},
   "outputs": [
    {
     "name": "stdout",
     "output_type": "stream",
     "text": [
      "----------- Start deal missing data -----------\n",
      "column 0 not have missing data\n",
      "column 1 have missing data, fixed!\n",
      "column 2 have missing data, fixed!\n",
      "column 3 have missing data, fixed!\n",
      "column 4 have missing data, fixed!\n",
      "column 5 have missing data, fixed!\n",
      "column 6 have missing data, fixed!\n",
      "column 7 have missing data, fixed!\n",
      "column 8 have missing data, fixed!\n",
      "column 9 have missing data, fixed!\n",
      "column 10 have missing data, fixed!\n",
      "column 11 have missing data, fixed!\n",
      "column 12 have missing data, fixed!\n",
      "column 13 have missing data, fixed!\n",
      "column 14 have missing data, fixed!\n",
      "column 15 have missing data, fixed!\n",
      "column 16 have missing data, fixed!\n",
      "column 17 have missing data, fixed!\n",
      "column 18 have missing data, fixed!\n",
      "column 19 have missing data, fixed!\n",
      "column 20 have missing data, fixed!\n",
      "----------- End deal missing data! -----------\n",
      "----------- Start deal missing data -----------\n",
      "column 0 not have missing data\n",
      "----------- End deal missing data! -----------\n",
      "['Albury' 13.4 22.9 0.6 5.469824216349109 7.624853113193594 'W' 44.0 'W'\n",
      " 'WNW' 20.0 24.0 71.0 22.0 1007.7 1007.1 8.0 4.503166899728551 16.9 21.8\n",
      " 'No']\n",
      "['No']\n",
      "----------- Start onehot -----------\n",
      "0 column need to one-hot, fixed!\n",
      "Location\n",
      "53 column need to one-hot, fixed!\n",
      "WindGustDir\n",
      "69 column need to one-hot, fixed!\n",
      "WindDir9am\n",
      "84 column need to one-hot, fixed!\n",
      "WindDir3pm\n",
      "109 column need to one-hot, fixed!\n",
      "RainToday\n",
      "----------- End onehot -----------\n",
      "----------- Start onehot -----------\n",
      "0 column need to one-hot, fixed!\n",
      "RainTomorrow\n",
      "----------- End onehot -----------\n",
      "----------- Start normalize -----------\n",
      "----------- End normalize -----------\n",
      "----------- X column -----------\n",
      "RainToday1 : 0.0\n",
      "WindDir3pm1 : 0.0\n",
      "WindDir3pm2 : 0.0\n",
      "WindDir3pm3 : 0.0\n",
      "WindDir3pm4 : 0.0\n",
      "WindDir3pm5 : 0.0\n",
      "WindDir3pm6 : 0.0\n",
      "WindDir3pm7 : 0.0\n",
      "WindDir3pm8 : 0.0\n",
      "WindDir3pm9 : 0.0\n",
      "WindDir3pm10 : 0.0\n",
      "WindDir3pm11 : 0.0\n",
      "WindDir3pm12 : 0.0\n",
      "WindDir3pm13 : 0.0\n",
      "WindDir3pm14 : 1.0\n",
      "WindDir3pm15 : 0.0\n",
      "WindDir9am1 : 0.0\n",
      "WindDir9am2 : 0.0\n",
      "WindDir9am3 : 0.0\n",
      "WindDir9am4 : 0.0\n",
      "WindDir9am5 : 0.0\n",
      "WindDir9am6 : 0.0\n",
      "WindDir9am7 : 0.0\n",
      "WindDir9am8 : 0.0\n",
      "WindDir9am9 : 0.0\n",
      "WindDir9am10 : 0.0\n",
      "WindDir9am11 : 0.0\n",
      "WindDir9am12 : 0.0\n",
      "WindDir9am13 : 1.0\n",
      "WindDir9am14 : 0.0\n",
      "WindDir9am15 : 0.0\n",
      "WindGustDir1 : 0.0\n",
      "WindGustDir2 : 0.0\n",
      "WindGustDir3 : 0.0\n",
      "WindGustDir4 : 0.0\n",
      "WindGustDir5 : 0.0\n",
      "WindGustDir6 : 0.0\n",
      "WindGustDir7 : 0.0\n",
      "WindGustDir8 : 0.0\n",
      "WindGustDir9 : 0.0\n",
      "WindGustDir10 : 0.0\n",
      "WindGustDir11 : 0.0\n",
      "WindGustDir12 : 0.0\n",
      "WindGustDir13 : 1.0\n",
      "WindGustDir14 : 0.0\n",
      "WindGustDir15 : 0.0\n",
      "Location1 : 0.0\n",
      "Location2 : 1.0\n",
      "Location3 : 0.0\n",
      "Location4 : 0.0\n",
      "Location5 : 0.0\n",
      "Location6 : 0.0\n",
      "Location7 : 0.0\n",
      "Location8 : 0.0\n",
      "Location9 : 0.0\n",
      "Location10 : 0.0\n",
      "Location11 : 0.0\n",
      "Location12 : 0.0\n",
      "Location13 : 0.0\n",
      "Location14 : 0.0\n",
      "Location15 : 0.0\n",
      "Location16 : 0.0\n",
      "Location17 : 0.0\n",
      "Location18 : 0.0\n",
      "Location19 : 0.0\n",
      "Location20 : 0.0\n",
      "Location21 : 0.0\n",
      "Location22 : 0.0\n",
      "Location23 : 0.0\n",
      "Location24 : 0.0\n",
      "Location25 : 0.0\n",
      "Location26 : 0.0\n",
      "Location27 : 0.0\n",
      "Location28 : 0.0\n",
      "Location29 : 0.0\n",
      "Location30 : 0.0\n",
      "Location31 : 0.0\n",
      "Location32 : 0.0\n",
      "Location33 : 0.0\n",
      "Location34 : 0.0\n",
      "Location35 : 0.0\n",
      "Location36 : 0.0\n",
      "Location37 : 0.0\n",
      "Location38 : 0.0\n",
      "Location39 : 0.0\n",
      "Location40 : 0.0\n",
      "Location41 : 0.0\n",
      "Location42 : 0.0\n",
      "Location43 : 0.0\n",
      "Location44 : 0.0\n",
      "Location45 : 0.0\n",
      "Location46 : 0.0\n",
      "Location47 : 0.0\n",
      "Location48 : 0.0\n",
      "MinTemp : 13.4\n",
      "MaxTemp : 22.9\n",
      "Rainfall : 0.6\n",
      "Evaporation : 5.469824216349109\n",
      "Sunshine : 7.624853113193594\n",
      "WindGustSpeed : 44.0\n",
      "WindSpeed9am : 20.0\n",
      "WindSpeed3pm : 24.0\n",
      "Humidity9am : 71.0\n",
      "Humidity3pm : 22.0\n",
      "Pressure9am : 1007.7\n",
      "Pressure3pm : 1007.1\n",
      "Cloud9am : 8.0\n",
      "Cloud3pm : 4.503166899728551\n",
      "Temp9am : 16.9\n",
      "Temp3pm : 21.8\n",
      "----------- y column -----------\n",
      "RainTomorrow1 : 0.0\n",
      "Preprocessing data done!\n"
     ]
    }
   ],
   "source": [
    "dfX = df.iloc[:, 1:-1]\n",
    "X = dfX.values\n",
    "dfy = df.iloc[:, [-1]]\n",
    "y = dfy.values\n",
    "X_column_name = np.array(dfX.columns.values)\n",
    "y_column_name = np.array(dfy.columns.values)\n",
    "\n",
    "X = DealMissingData(X, dfX)\n",
    "y = DealMissingData(y, dfy)\n",
    "\n",
    "\n",
    "print(X[0])\n",
    "print(y[0])\n",
    "\n",
    "X,X_column_name = MakeOneHot(X,X_column_name)\n",
    "y,y_column_name = MakeOneHot(y,y_column_name)\n",
    "y = y.reshape(1, -1)[0]\n",
    "\n",
    "# split data\n",
    "X_train, X_test, y_train, y_test = train_test_split(X, y, test_size=0.2, random_state=0)\n",
    "\n",
    "X_train, X_test = NormalizeData(X_train, X_test)\n",
    "print(\"----------- X column -----------\")\n",
    "for ele in zip(X[0], X_column_name):\n",
    "    print(f\"{ele[1]} : {ele[0]}\")\n",
    "print(\"----------- y column -----------\")\n",
    "for ele in zip(y, y_column_name):\n",
    "    print(f\"{ele[1]} : {ele[0]}\")\n",
    "print(\"Preprocessing data done!\")"
   ]
  },
  {
   "cell_type": "markdown",
   "metadata": {},
   "source": [
    "<h1>LogisticRegression<\\h1>"
   ]
  },
  {
   "cell_type": "code",
   "execution_count": 11,
   "metadata": {},
   "outputs": [
    {
     "name": "stdout",
     "output_type": "stream",
     "text": [
      "[LibLinear]"
     ]
    },
    {
     "name": "stderr",
     "output_type": "stream",
     "text": [
      "C:\\Users\\john\\copy\\Anaconda\\lib\\site-packages\\sklearn\\linear_model\\logistic.py:432: FutureWarning: Default solver will be changed to 'lbfgs' in 0.22. Specify a solver to silence this warning.\n",
      "  FutureWarning)\n"
     ]
    },
    {
     "name": "stdout",
     "output_type": "stream",
     "text": [
      "train_cm:  \n",
      " [[83439  4810]\n",
      " [12481 13024]] \n",
      "\n",
      "test_cm:  \n",
      " [[20887  1180]\n",
      " [ 3102  3270]] \n",
      "\n",
      "train_acc:  0.847996553967333\n",
      "test_acc:  0.8494321178663103\n"
     ]
    }
   ],
   "source": [
    "Logistic_model, Log_train_cm, Log_test_cm = TrainAndTestModel(LogisticRegression(random_state=42,verbose=1), X_train, y_train, X_test, y_test, \"Logistic_classifier\",want_fit_model=True)"
   ]
  },
  {
   "cell_type": "code",
   "execution_count": 52,
   "metadata": {},
   "outputs": [
    {
     "name": "stdout",
     "output_type": "stream",
     "text": [
      "Log_train\n"
     ]
    },
    {
     "data": {
      "image/png": "[encoded data removed]",
      "text/plain": [
       "<Figure size 432x288 with 2 Axes>"
      ]
     },
     "metadata": {
      "needs_background": "light"
     },
     "output_type": "display_data"
    }
   ],
   "source": [
    "sns.heatmap(Log_train_cm, annot=True, fmt='d', cmap='Blues')\n",
    "print('Log_train')"
   ]
  },
  {
   "cell_type": "code",
   "execution_count": 53,
   "metadata": {},
   "outputs": [
    {
     "name": "stdout",
     "output_type": "stream",
     "text": [
      "Log_test\n"
     ]
    },
    {
     "data": {
      "image/png": "[encoded data removed]",
      "text/plain": [
       "<Figure size 432x288 with 2 Axes>"
      ]
     },
     "metadata": {
      "needs_background": "light"
     },
     "output_type": "display_data"
    }
   ],
   "source": [
    "sns.heatmap(Log_train_cm, annot=True, fmt='d', cmap='Blues')\n",
    "print('Log_test')"
   ]
  },
  {
   "cell_type": "markdown",
   "metadata": {},
   "source": [
    "<h1>DecisionTree with Randomsearch<\\h1>"
   ]
  },
  {
   "cell_type": "code",
   "execution_count": 22,
   "metadata": {},
   "outputs": [],
   "source": [
    "param_distribs = {\n",
    "    'min_samples_split': randint(low=100, high=200),\n",
    "    'max_features': randint(low=70, high=95),\n",
    "    'max_depth': randint(low=3, high=20),\n",
    "    'min_samples_leaf': randint(low=40, high=50),\n",
    "}"
   ]
  },
  {
   "cell_type": "code",
   "execution_count": 16,
   "metadata": {},
   "outputs": [
    {
     "data": {
      "text/plain": [
       "RandomizedSearchCV(cv=3, error_score='raise-deprecating',\n",
       "                   estimator=DecisionTreeClassifier(class_weight=None,\n",
       "                                                    criterion='entropy',\n",
       "                                                    max_depth=None,\n",
       "                                                    max_features=None,\n",
       "                                                    max_leaf_nodes=None,\n",
       "                                                    min_impurity_decrease=0.0,\n",
       "                                                    min_impurity_split=None,\n",
       "                                                    min_samples_leaf=1,\n",
       "                                                    min_samples_split=2,\n",
       "                                                    min_weight_fraction_leaf=0.0,\n",
       "                                                    presort=False,\n",
       "                                                    random_state=0,\n",
       "                                                    splitter='best'),\n",
       "                   iid='w...\n",
       "                                        'max_features': <scipy.stats._distn_infrastructure.rv_frozen object at 0x0000021E93E09A48>,\n",
       "                                        'min_samples_leaf': <scipy.stats._distn_infrastructure.rv_frozen object at 0x0000021E93E0D648>,\n",
       "                                        'min_samples_split': <scipy.stats._distn_infrastructure.rv_frozen object at 0x0000021E93E098C8>},\n",
       "                   pre_dispatch='2*n_jobs', random_state=42, refit=True,\n",
       "                   return_train_score=False, scoring='neg_mean_squared_error',\n",
       "                   verbose=0)"
      ]
     },
     "execution_count": 16,
     "metadata": {},
     "output_type": "execute_result"
    }
   ],
   "source": [
    "DecisionTree = DecisionTreeClassifier(criterion='entropy', random_state=0)\n",
    "rnd_search = RandomizedSearchCV(DecisionTree, param_distributions=param_distribs,\n",
    "                                n_iter=50, cv=3, scoring='neg_mean_squared_error', random_state=42)\n",
    "rnd_search.fit(X_train, y_train)"
   ]
  },
  {
   "cell_type": "code",
   "execution_count": 26,
   "metadata": {},
   "outputs": [
    {
     "data": {
      "text/plain": [
       "{'max_depth': 9,\n",
       " 'max_features': 90,\n",
       " 'min_samples_leaf': 42,\n",
       " 'min_samples_split': 157}"
      ]
     },
     "execution_count": 26,
     "metadata": {},
     "output_type": "execute_result"
    }
   ],
   "source": [
    "rnd_search.best_params_"
   ]
  },
  {
   "cell_type": "code",
   "execution_count": 27,
   "metadata": {},
   "outputs": [
    {
     "data": {
      "text/plain": [
       "[(0.5752365605271297, 'Humidity3pm'),\n",
       " (0.09653587495514528, 'Pressure3pm'),\n",
       " (0.09536004345122795, 'Rainfall'),\n",
       " (0.08840122280211923, 'Sunshine'),\n",
       " (0.06959169245456913, 'WindGustSpeed'),\n",
       " (0.009948689669365702, 'Cloud3pm'),\n",
       " (0.009356712546038483, 'Temp9am'),\n",
       " (0.008556798048102759, 'Temp3pm'),\n",
       " (0.0076800839186155784, 'Humidity9am'),\n",
       " (0.00763141003702526, 'MinTemp'),\n",
       " (0.007041311343311371, 'RainToday1'),\n",
       " (0.004388473000769847, 'MaxTemp'),\n",
       " (0.0037790562742693245, 'Pressure9am'),\n",
       " (0.0024016630111238697, 'Location47'),\n",
       " (0.0022184057013437015, 'WindSpeed3pm'),\n",
       " (0.002151760580614191, 'Location26'),\n",
       " (0.001905922536959345, 'Location1'),\n",
       " (0.0018132481103412057, 'WindSpeed9am'),\n",
       " (0.0010903225172219397, 'Location16'),\n",
       " (0.0008669693810844798, 'WindGustDir4'),\n",
       " (0.0007289122708287809, 'Location23'),\n",
       " (0.000695972165037619, 'Evaporation'),\n",
       " (0.0005352383862839556, 'WindDir3pm13'),\n",
       " (0.00043400760235728746, 'Cloud9am'),\n",
       " (0.0002909651704806118, 'WindDir9am5'),\n",
       " (0.0002673307529826123, 'Location18'),\n",
       " (0.00023905419371674603, 'Location27'),\n",
       " (0.00022296194280865182, 'WindDir3pm15'),\n",
       " (0.0002214015505512229, 'WindDir3pm3'),\n",
       " (0.00020747710409547765, 'WindDir3pm8'),\n",
       " (0.00020045799447863634, 'WindDir3pm11'),\n",
       " (0.0, 'WindGustDir9'),\n",
       " (0.0, 'WindGustDir8'),\n",
       " (0.0, 'WindGustDir7'),\n",
       " (0.0, 'WindGustDir6'),\n",
       " (0.0, 'WindGustDir5'),\n",
       " (0.0, 'WindGustDir3'),\n",
       " (0.0, 'WindGustDir2'),\n",
       " (0.0, 'WindGustDir15'),\n",
       " (0.0, 'WindGustDir14'),\n",
       " (0.0, 'WindGustDir13'),\n",
       " (0.0, 'WindGustDir12'),\n",
       " (0.0, 'WindGustDir11'),\n",
       " (0.0, 'WindGustDir10'),\n",
       " (0.0, 'WindGustDir1'),\n",
       " (0.0, 'WindDir9am9'),\n",
       " (0.0, 'WindDir9am8'),\n",
       " (0.0, 'WindDir9am7'),\n",
       " (0.0, 'WindDir9am6'),\n",
       " (0.0, 'WindDir9am4'),\n",
       " (0.0, 'WindDir9am3'),\n",
       " (0.0, 'WindDir9am2'),\n",
       " (0.0, 'WindDir9am15'),\n",
       " (0.0, 'WindDir9am14'),\n",
       " (0.0, 'WindDir9am13'),\n",
       " (0.0, 'WindDir9am12'),\n",
       " (0.0, 'WindDir9am11'),\n",
       " (0.0, 'WindDir9am10'),\n",
       " (0.0, 'WindDir9am1'),\n",
       " (0.0, 'WindDir3pm9'),\n",
       " (0.0, 'WindDir3pm7'),\n",
       " (0.0, 'WindDir3pm6'),\n",
       " (0.0, 'WindDir3pm5'),\n",
       " (0.0, 'WindDir3pm4'),\n",
       " (0.0, 'WindDir3pm2'),\n",
       " (0.0, 'WindDir3pm14'),\n",
       " (0.0, 'WindDir3pm12'),\n",
       " (0.0, 'WindDir3pm10'),\n",
       " (0.0, 'WindDir3pm1'),\n",
       " (0.0, 'Location9'),\n",
       " (0.0, 'Location8'),\n",
       " (0.0, 'Location7'),\n",
       " (0.0, 'Location6'),\n",
       " (0.0, 'Location5'),\n",
       " (0.0, 'Location48'),\n",
       " (0.0, 'Location46'),\n",
       " (0.0, 'Location45'),\n",
       " (0.0, 'Location44'),\n",
       " (0.0, 'Location43'),\n",
       " (0.0, 'Location42'),\n",
       " (0.0, 'Location41'),\n",
       " (0.0, 'Location40'),\n",
       " (0.0, 'Location4'),\n",
       " (0.0, 'Location39'),\n",
       " (0.0, 'Location38'),\n",
       " (0.0, 'Location37'),\n",
       " (0.0, 'Location36'),\n",
       " (0.0, 'Location35'),\n",
       " (0.0, 'Location34'),\n",
       " (0.0, 'Location33'),\n",
       " (0.0, 'Location32'),\n",
       " (0.0, 'Location31'),\n",
       " (0.0, 'Location30'),\n",
       " (0.0, 'Location3'),\n",
       " (0.0, 'Location29'),\n",
       " (0.0, 'Location28'),\n",
       " (0.0, 'Location25'),\n",
       " (0.0, 'Location24'),\n",
       " (0.0, 'Location22'),\n",
       " (0.0, 'Location21'),\n",
       " (0.0, 'Location20'),\n",
       " (0.0, 'Location2'),\n",
       " (0.0, 'Location19'),\n",
       " (0.0, 'Location17'),\n",
       " (0.0, 'Location15'),\n",
       " (0.0, 'Location14'),\n",
       " (0.0, 'Location13'),\n",
       " (0.0, 'Location12'),\n",
       " (0.0, 'Location11'),\n",
       " (0.0, 'Location10')]"
      ]
     },
     "execution_count": 27,
     "metadata": {},
     "output_type": "execute_result"
    }
   ],
   "source": [
    "feature_importances = rnd_search.best_estimator_.feature_importances_\n",
    "sorted(zip(feature_importances, X_column_name), reverse=True)"
   ]
  },
  {
   "cell_type": "code",
   "execution_count": 28,
   "metadata": {},
   "outputs": [
    {
     "name": "stdout",
     "output_type": "stream",
     "text": [
      "train_cm:  \n",
      " [[83968  4281]\n",
      " [12990 12515]] \n",
      "\n",
      "test_cm:  \n",
      " [[20892  1175]\n",
      " [ 3308  3064]] \n",
      "\n",
      "train_acc:  0.8481723719605464\n",
      "test_acc:  0.8423643588030522\n"
     ]
    }
   ],
   "source": [
    "Decision_rnd_search_model = rnd_search.best_estimator_\n",
    "Decision_model, Decision_train_cm, Decision_test_cm = TrainAndTestModel(Decision_rnd_search_model, X_train, y_train, X_test, y_test, \"DecisionTree_classifier\")"
   ]
  },
  {
   "cell_type": "code",
   "execution_count": 50,
   "metadata": {},
   "outputs": [
    {
     "name": "stdout",
     "output_type": "stream",
     "text": [
      "Decision_train\n"
     ]
    },
    {
     "data": {
      "image/png": "[encoded data removed]",
      "text/plain": [
       "<Figure size 432x288 with 2 Axes>"
      ]
     },
     "metadata": {
      "needs_background": "light"
     },
     "output_type": "display_data"
    }
   ],
   "source": [
    "sns.heatmap(Decision_train_cm, annot=True, fmt='d', cmap='Blues')\n",
    "print('Decision_train')"
   ]
  },
  {
   "cell_type": "code",
   "execution_count": 51,
   "metadata": {},
   "outputs": [
    {
     "name": "stdout",
     "output_type": "stream",
     "text": [
      "Decision_test\n"
     ]
    },
    {
     "data": {
      "image/png": "[encoded data removed]",
      "text/plain": [
       "<Figure size 432x288 with 2 Axes>"
      ]
     },
     "metadata": {
      "needs_background": "light"
     },
     "output_type": "display_data"
    }
   ],
   "source": [
    "sns.heatmap(Decision_test_cm, annot=True, fmt='d', cmap='Blues')\n",
    "print('Decision_test')"
   ]
  },
  {
   "cell_type": "markdown",
   "metadata": {},
   "source": [
    "<h1>RandomForest with Random Search<\\h1>"
   ]
  },
  {
   "cell_type": "code",
   "execution_count": 19,
   "metadata": {},
   "outputs": [
    {
     "data": {
      "text/plain": [
       "RandomizedSearchCV(cv=3, error_score='raise-deprecating',\n",
       "                   estimator=RandomForestClassifier(bootstrap=True,\n",
       "                                                    class_weight=None,\n",
       "                                                    criterion='gini',\n",
       "                                                    max_depth=None,\n",
       "                                                    max_features='auto',\n",
       "                                                    max_leaf_nodes=None,\n",
       "                                                    min_impurity_decrease=0.0,\n",
       "                                                    min_impurity_split=None,\n",
       "                                                    min_samples_leaf=1,\n",
       "                                                    min_samples_split=2,\n",
       "                                                    min_weight_fraction_leaf=0.0,\n",
       "                                                    n_estimators='warn',\n",
       "                                                    n_jobs=None,\n",
       "                                                    oob_sc...\n",
       "                                        'max_features': <scipy.stats._distn_infrastructure.rv_frozen object at 0x00000210A22C3048>,\n",
       "                                        'min_samples_leaf': <scipy.stats._distn_infrastructure.rv_frozen object at 0x00000210A22C3E88>,\n",
       "                                        'n_estimators': <scipy.stats._distn_infrastructure.rv_frozen object at 0x00000210A0394348>},\n",
       "                   pre_dispatch='2*n_jobs', random_state=42, refit=True,\n",
       "                   return_train_score=False, scoring='neg_mean_squared_error',\n",
       "                   verbose=0)"
      ]
     },
     "execution_count": 19,
     "metadata": {},
     "output_type": "execute_result"
    }
   ],
   "source": [
    "param_distribs = {\n",
    "    'n_estimators': randint(low=1, high=200),\n",
    "    'max_features': randint(low=1, high=107),\n",
    "    'max_depth': randint(low=3, high=50),\n",
    "    'min_samples_leaf': randint(low=5, high=50),\n",
    "}\n",
    "\n",
    "forest_classifier = RandomForestClassifier(random_state=42)\n",
    "rnd_search = RandomizedSearchCV(forest_reg, param_distributions=param_distribs,\n",
    "                                n_iter=100, cv=3, scoring='neg_mean_squared_error', random_state=42)\n",
    "rnd_search.fit(X_train, y_train)"
   ]
  },
  {
   "cell_type": "code",
   "execution_count": 32,
   "metadata": {},
   "outputs": [
    {
     "data": {
      "text/plain": [
       "{'max_depth': 23,\n",
       " 'max_features': 24,\n",
       " 'min_samples_leaf': 6,\n",
       " 'n_estimators': 167}"
      ]
     },
     "execution_count": 32,
     "metadata": {},
     "output_type": "execute_result"
    }
   ],
   "source": [
    "rnd_search.best_params_"
   ]
  },
  {
   "cell_type": "code",
   "execution_count": 33,
   "metadata": {},
   "outputs": [
    {
     "data": {
      "text/plain": [
       "[(0.26782627532430464, 'Humidity3pm'),\n",
       " (0.07184319032329672, 'Rainfall'),\n",
       " (0.06537024583981745, 'Pressure3pm'),\n",
       " (0.062345844190848744, 'Sunshine'),\n",
       " (0.06006723137060429, 'WindGustSpeed'),\n",
       " (0.05009039573218454, 'Humidity9am'),\n",
       " (0.04995270028229912, 'Pressure9am'),\n",
       " (0.041834500164033186, 'Cloud3pm'),\n",
       " (0.03929520181716412, 'RainToday1'),\n",
       " (0.03646844515020806, 'Temp3pm'),\n",
       " (0.03541628436039406, 'MinTemp'),\n",
       " (0.03492537838432763, 'MaxTemp'),\n",
       " (0.03268735081134224, 'Temp9am'),\n",
       " (0.023975849412424, 'WindSpeed3pm'),\n",
       " (0.020870767708826052, 'WindSpeed9am'),\n",
       " (0.018614274979236442, 'Cloud9am'),\n",
       " (0.017273108704482027, 'Evaporation'),\n",
       " (0.0027679282635642544, 'WindDir9am3'),\n",
       " (0.002210347826830568, 'Location46'),\n",
       " (0.0021359730050883046, 'WindDir3pm3'),\n",
       " (0.002058817910670711, 'WindGustDir13'),\n",
       " (0.0019265893181381248, 'WindDir9am5'),\n",
       " (0.001707502909639327, 'WindDir3pm7'),\n",
       " (0.0016145296814293636, 'WindDir3pm6'),\n",
       " (0.0014534250639154224, 'WindDir3pm14'),\n",
       " (0.0014209306424903584, 'WindGustDir3'),\n",
       " (0.0014127481161312588, 'WindGustDir7'),\n",
       " (0.0013382832126232979, 'Location23'),\n",
       " (0.0013112627616204597, 'Location47'),\n",
       " (0.0012998371820491705, 'WindDir3pm9'),\n",
       " (0.0012642890964056355, 'Location1'),\n",
       " (0.0011816895776708347, 'WindDir3pm13'),\n",
       " (0.0011745913887942845, 'WindDir3pm4'),\n",
       " (0.0011319777381123093, 'WindGustDir4'),\n",
       " (0.001091577412725128, 'WindDir3pm5'),\n",
       " (0.0010869007600667736, 'WindGustDir6'),\n",
       " (0.0010573733338688762, 'WindDir9am6'),\n",
       " (0.0010445786366678434, 'WindGustDir14'),\n",
       " (0.0010373924425202755, 'WindDir9am13'),\n",
       " (0.0010355917254778633, 'WindDir9am7'),\n",
       " (0.0009300044624371048, 'WindDir3pm8'),\n",
       " (0.0008861007986780387, 'WindGustDir8'),\n",
       " (0.0008779044182350021, 'WindDir9am4'),\n",
       " (0.0008733724850315665, 'WindGustDir5'),\n",
       " (0.000867674501204424, 'Location26'),\n",
       " (0.000851657530949947, 'WindDir3pm15'),\n",
       " (0.0008413278425104746, 'WindDir9am11'),\n",
       " (0.0008288270107725585, 'Location27'),\n",
       " (0.0008152053873176241, 'WindDir3pm10'),\n",
       " (0.0008127608193606624, 'Location43'),\n",
       " (0.0008113377803107328, 'Location7'),\n",
       " (0.0007807235568739306, 'WindDir3pm11'),\n",
       " (0.0007726400056323965, 'WindDir9am14'),\n",
       " (0.0007662581268872414, 'Location31'),\n",
       " (0.0007506307403597824, 'WindDir9am8'),\n",
       " (0.0007465096433657415, 'WindGustDir15'),\n",
       " (0.0007405849473278109, 'WindDir9am12'),\n",
       " (0.0007315317807144655, 'Location11'),\n",
       " (0.000727089641267068, 'WindDir9am15'),\n",
       " (0.0007170545401229257, 'WindGustDir10'),\n",
       " (0.000716633049135449, 'WindGustDir12'),\n",
       " (0.0007112106203373944, 'WindGustDir11'),\n",
       " (0.0006864642624362701, 'Location45'),\n",
       " (0.000678535096386119, 'Location33'),\n",
       " (0.0006749254131412629, 'Location12'),\n",
       " (0.0006500519087077012, 'WindDir3pm12'),\n",
       " (0.0006489439618131476, 'WindGustDir9'),\n",
       " (0.0006041703750447085, 'WindDir3pm1'),\n",
       " (0.0005979262020273547, 'WindDir9am1'),\n",
       " (0.0005974158736623498, 'Location37'),\n",
       " (0.0005863586756982884, 'WindDir9am9'),\n",
       " (0.0005797918913382453, 'WindDir9am10'),\n",
       " (0.0005710819293672533, 'Location30'),\n",
       " (0.0005584632668746715, 'Location8'),\n",
       " (0.0005584606532863501, 'Location40'),\n",
       " (0.0005543354663186321, 'Location24'),\n",
       " (0.0005492587330119472, 'Location15'),\n",
       " (0.0005439861264160108, 'Location14'),\n",
       " (0.0005099760129670233, 'Location5'),\n",
       " (0.0005098769991979435, 'WindGustDir1'),\n",
       " (0.0005085236448888041, 'Location35'),\n",
       " (0.00048747671675232907, 'Location36'),\n",
       " (0.00048577012665062733, 'WindDir3pm2'),\n",
       " (0.0004596592727351677, 'Location4'),\n",
       " (0.00039906870442629283, 'WindDir9am2'),\n",
       " (0.00039615168805420543, 'Location38'),\n",
       " (0.0003943277670804629, 'Location9'),\n",
       " (0.00039338308596255714, 'Location2'),\n",
       " (0.00039096865357322045, 'WindGustDir2'),\n",
       " (0.00038023715045860625, 'Location32'),\n",
       " (0.00037528704466255537, 'Location17'),\n",
       " (0.0003752619747636188, 'Location13'),\n",
       " (0.0003535259310989436, 'Location22'),\n",
       " (0.00035215685049443373, 'Location34'),\n",
       " (0.00034955013166288785, 'Location29'),\n",
       " (0.0003444904200611177, 'Location18'),\n",
       " (0.00030695780514005414, 'Location44'),\n",
       " (0.00029537465204648917, 'Location19'),\n",
       " (0.0002698162527602494, 'Location28'),\n",
       " (0.00025558126943704874, 'Location39'),\n",
       " (0.0002445215480339386, 'Location16'),\n",
       " (0.00022139556332390634, 'Location42'),\n",
       " (0.00021749640066493948, 'Location6'),\n",
       " (0.00017162410952868188, 'Location25'),\n",
       " (0.00016523894282876312, 'Location10'),\n",
       " (0.0001576585232182975, 'Location48'),\n",
       " (0.00015410203831074733, 'Location3'),\n",
       " (0.00013785609947463348, 'Location21'),\n",
       " (7.55276863333157e-05, 'Location20'),\n",
       " (4.276484675179496e-05, 'Location41')]"
      ]
     },
     "execution_count": 33,
     "metadata": {},
     "output_type": "execute_result"
    }
   ],
   "source": [
    "feature_importances = rnd_search.best_estimator_.feature_importances_\n",
    "sorted(zip(feature_importances, X_column_name), reverse=True)"
   ]
  },
  {
   "cell_type": "code",
   "execution_count": 34,
   "metadata": {},
   "outputs": [],
   "source": [
    "rnd_search_model = rnd_search.best_estimator_"
   ]
  },
  {
   "cell_type": "code",
   "execution_count": 36,
   "metadata": {},
   "outputs": [
    {
     "name": "stdout",
     "output_type": "stream",
     "text": [
      "train_cm:  \n",
      " [[86808  1441]\n",
      " [ 8565 16940]] \n",
      "\n",
      "test_cm:  \n",
      " [[21137   930]\n",
      " [ 3120  3252]] \n",
      "\n",
      "train_acc:  0.9120382579953232\n",
      "test_acc:  0.8575899293224094\n"
     ]
    }
   ],
   "source": [
    "RandomForest_model, RandomForest_train_cm, RandomForest_test_cm = TrainAndTestModel(rnd_search_model, X_train, y_train, X_test, y_test, \"RandomForest_classifier\")"
   ]
  },
  {
   "cell_type": "code",
   "execution_count": 54,
   "metadata": {},
   "outputs": [
    {
     "name": "stdout",
     "output_type": "stream",
     "text": [
      "RandomForest_train\n"
     ]
    },
    {
     "data": {
      "image/png": "[encoded data removed]",
      "text/plain": [
       "<Figure size 432x288 with 2 Axes>"
      ]
     },
     "metadata": {
      "needs_background": "light"
     },
     "output_type": "display_data"
    }
   ],
   "source": [
    "sns.heatmap(RandomForest_train_cm, annot=True, fmt='d', cmap='Blues')\n",
    "print('RandomForest_train')"
   ]
  },
  {
   "cell_type": "code",
   "execution_count": 55,
   "metadata": {},
   "outputs": [
    {
     "name": "stdout",
     "output_type": "stream",
     "text": [
      "RandomForest_test\n"
     ]
    },
    {
     "data": {
      "image/png": "[encoded data removed]",
      "text/plain": [
       "<Figure size 432x288 with 2 Axes>"
      ]
     },
     "metadata": {
      "needs_background": "light"
     },
     "output_type": "display_data"
    }
   ],
   "source": [
    "sns.heatmap(RandomForest_test_cm, annot=True, fmt='d', cmap='Blues')\n",
    "print('RandomForest_test')"
   ]
  },
  {
   "cell_type": "markdown",
   "metadata": {},
   "source": [
    "<h1>SVC<br>!!!NEED A LOT OF TIME!!!<\\h1> "
   ]
  },
  {
   "cell_type": "code",
   "execution_count": 56,
   "metadata": {},
   "outputs": [
    {
     "name": "stdout",
     "output_type": "stream",
     "text": [
      "now = 2021-01-07 02:31:50.369979\n"
     ]
    }
   ],
   "source": [
    "from datetime import datetime\n",
    "now = datetime.now()\n",
    "print(\"now =\", now)"
   ]
  },
  {
   "cell_type": "code",
   "execution_count": 57,
   "metadata": {},
   "outputs": [
    {
     "name": "stdout",
     "output_type": "stream",
     "text": [
      "[LibSVM]train_cm:  \n",
      " [[85559  2690]\n",
      " [10872 14633]] \n",
      "\n",
      "test_cm:  \n",
      " [[21137   930]\n",
      " [ 2979  3393]] \n",
      "\n",
      "train_acc:  0.8807778188019761\n",
      "test_acc:  0.8625479095608144\n"
     ]
    }
   ],
   "source": [
    "SVC_model,SVC_train_cm,SVC_test_cm = TrainAndTestModel(SVC(verbose=True), X_train, y_train, X_test, y_test, \"SVC\",want_fit_model=True)"
   ]
  },
  {
   "cell_type": "code",
   "execution_count": 58,
   "metadata": {},
   "outputs": [
    {
     "name": "stdout",
     "output_type": "stream",
     "text": [
      "now = 2021-01-07 03:14:36.255770\n"
     ]
    }
   ],
   "source": [
    "now = datetime.now()\n",
    "print(\"now =\", now)"
   ]
  },
  {
   "cell_type": "code",
   "execution_count": 59,
   "metadata": {},
   "outputs": [
    {
     "name": "stdout",
     "output_type": "stream",
     "text": [
      "SVC_train\n"
     ]
    },
    {
     "data": {
      "image/png": "[encoded data removed]",
      "text/plain": [
       "<Figure size 432x288 with 2 Axes>"
      ]
     },
     "metadata": {
      "needs_background": "light"
     },
     "output_type": "display_data"
    }
   ],
   "source": [
    "sns.heatmap(SVC_train_cm, annot=True, fmt='d', cmap='Blues')\n",
    "print('SVC_train')"
   ]
  },
  {
   "cell_type": "code",
   "execution_count": 60,
   "metadata": {},
   "outputs": [
    {
     "name": "stdout",
     "output_type": "stream",
     "text": [
      "SVC_test\n"
     ]
    },
    {
     "data": {
      "image/png": "[encoded data removed]",
      "text/plain": [
       "<Figure size 432x288 with 2 Axes>"
      ]
     },
     "metadata": {
      "needs_background": "light"
     },
     "output_type": "display_data"
    }
   ],
   "source": [
    "sns.heatmap(SVC_test_cm, annot=True, fmt='d', cmap='Blues')\n",
    "print('SVC_test')"
   ]
  },
  {
   "cell_type": "code",
   "execution_count": 2,
   "metadata": {},
   "outputs": [
    {
     "data": {
      "image/png": "[encoded data removed]",
      "text/plain": [
       "<Figure size 432x288 with 1 Axes>"
      ]
     },
     "metadata": {
      "needs_background": "light"
     },
     "output_type": "display_data"
    }
   ],
   "source": [
    "px = [1, 2, 3]\n",
    "py = [5, 7, 10]\n",
    "plt.plot(px, py)\n",
    "plt.show()"
   ]
  },
  {
   "cell_type": "code",
   "execution_count": null,
   "metadata": {},
   "outputs": [],
   "source": []
  }
 ],
 "metadata": {
  "kernelspec": {
   "display_name": "Python 3",
   "language": "python",
   "name": "python3"
  },
  "language_info": {
   "codemirror_mode": {
    "name": "ipython",
    "version": 3
   },
   "file_extension": ".py",
   "mimetype": "text/x-python",
   "name": "python",
   "nbconvert_exporter": "python",
   "pygments_lexer": "ipython3",
   "version": "3.8.5"
  }
 },
 "nbformat": 4,
 "nbformat_minor": 4
}
