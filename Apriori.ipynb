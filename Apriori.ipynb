{
 "cells": [
  {
   "cell_type": "code",
   "execution_count": 1,
   "metadata": {},
   "outputs": [],
   "source": [
    "import numpy as np\n",
    "import pandas as pd\n",
    "import matplotlib.pyplot as plt\n",
    "from Module.apyori import apriori"
   ]
  },
  {
   "cell_type": "code",
   "execution_count": 2,
   "metadata": {},
   "outputs": [],
   "source": [
    "df = pd.read_csv(\"./DATA/Market_Basket_Optimisation.csv\", header=None)"
   ]
  },
  {
   "cell_type": "code",
   "execution_count": 5,
   "metadata": {},
   "outputs": [
    {
     "name": "stdout",
     "output_type": "stream",
     "text": [
      "[['shrimp', 'almonds', 'avocado', 'vegetables mix', 'green grapes', 'whole weat flour', 'yams', 'cottage cheese', 'energy drink', 'tomato juice', 'low fat yogurt', 'green tea', 'honey', 'salad', 'mineral water', 'salmon', 'antioxydant juice', 'frozen smoothie', 'spinach'], ['burgers', 'meatballs', 'eggs', 'nan', 'nan', 'nan', 'nan', 'nan', 'nan', 'nan', 'nan', 'nan', 'nan', 'nan', 'nan', 'nan', 'nan', 'nan', 'nan']]\n"
     ]
    }
   ],
   "source": [
    "transactions = []\n",
    "for i in range(len(df)):\n",
    "    transactions.append([str(df.values[i, j]) for j in range(max(df))])\n",
    "    \n",
    "print(transactions[:2])"
   ]
  },
  {
   "cell_type": "code",
   "execution_count": 6,
   "metadata": {},
   "outputs": [],
   "source": [
    "rules = apriori(transactions, min_support=0.003, min_confidence=0.45, min_lift=3, min_length=2)"
   ]
  },
  {
   "cell_type": "code",
   "execution_count": 7,
   "metadata": {},
   "outputs": [],
   "source": [
    "res = [list(x) for x in list(rules)]"
   ]
  },
  {
   "cell_type": "code",
   "execution_count": 8,
   "metadata": {},
   "outputs": [
    {
     "name": "stdout",
     "output_type": "stream",
     "text": [
      "[frozenset({'ground beef', 'spaghetti', 'cereals'}), 0.0030662578322890282, [OrderedStatistic(items_base=frozenset({'ground beef', 'cereals'}), items_add=frozenset({'spaghetti'}), confidence=0.6764705882352942, lift=3.8853031258445188), OrderedStatistic(items_base=frozenset({'spaghetti', 'cereals'}), items_add=frozenset({'ground beef'}), confidence=0.45999999999999996, lift=4.681763907734057)]]\n",
      "[frozenset({'chicken', 'milk', 'olive oil'}), 0.0035995200639914677, [OrderedStatistic(items_base=frozenset({'chicken', 'olive oil'}), items_add=frozenset({'milk'}), confidence=0.5, lift=3.858539094650206)]]\n",
      "[frozenset({'ground beef', 'spaghetti', 'cooking oil'}), 0.004799360085321957, [OrderedStatistic(items_base=frozenset({'ground beef', 'cooking oil'}), items_add=frozenset({'spaghetti'}), confidence=0.5714285714285714, lift=3.2819951870487856)]]\n",
      "[frozenset({'spaghetti', 'eggs', 'red wine'}), 0.0037328356219170776, [OrderedStatistic(items_base=frozenset({'eggs', 'red wine'}), items_add=frozenset({'spaghetti'}), confidence=0.5283018867924528, lift=3.0342974370828397)]]\n",
      "[frozenset({'ground beef', 'herb & pepper', 'french fries'}), 0.003199573390214638, [OrderedStatistic(items_base=frozenset({'herb & pepper', 'french fries'}), items_add=frozenset({'ground beef'}), confidence=0.46153846153846156, lift=4.697421981004071)]]\n",
      "[frozenset({'soup', 'frozen vegetables', 'milk'}), 0.003999466737768298, [OrderedStatistic(items_base=frozenset({'soup', 'frozen vegetables'}), items_add=frozenset({'milk'}), confidence=0.5, lift=3.858539094650206)]]\n",
      "[frozenset({'ground beef', 'spaghetti', 'shrimp'}), 0.005999200106652446, [OrderedStatistic(items_base=frozenset({'ground beef', 'shrimp'}), items_add=frozenset({'spaghetti'}), confidence=0.5232558139534884, lift=3.005315360233627)]]\n",
      "[frozenset({'ground beef', 'spaghetti', 'tomato sauce'}), 0.0030662578322890282, [OrderedStatistic(items_base=frozenset({'ground beef', 'tomato sauce'}), items_add=frozenset({'spaghetti'}), confidence=0.5750000000000001, lift=3.3025076569678413), OrderedStatistic(items_base=frozenset({'spaghetti', 'tomato sauce'}), items_add=frozenset({'ground beef'}), confidence=0.4893617021276596, lift=4.980599901844742)]]\n",
      "[frozenset({'spaghetti', 'milk', 'whole wheat pasta'}), 0.003999466737768298, [OrderedStatistic(items_base=frozenset({'spaghetti', 'whole wheat pasta'}), items_add=frozenset({'milk'}), confidence=0.4545454545454546, lift=3.5077628133183696)]]\n",
      "[frozenset({'tomatoes', 'spaghetti', 'olive oil'}), 0.004399413411545127, [OrderedStatistic(items_base=frozenset({'tomatoes', 'olive oil'}), items_add=frozenset({'spaghetti'}), confidence=0.6111111111111112, lift=3.5099115194827295)]]\n",
      "[frozenset({'ground beef', 'spaghetti', 'nan', 'cereals'}), 0.0030662578322890282, [OrderedStatistic(items_base=frozenset({'ground beef', 'nan', 'cereals'}), items_add=frozenset({'spaghetti'}), confidence=0.6764705882352942, lift=3.8853031258445188), OrderedStatistic(items_base=frozenset({'spaghetti', 'nan', 'cereals'}), items_add=frozenset({'ground beef'}), confidence=0.46938775510204084, lift=4.777310109932712)]]\n",
      "[frozenset({'chicken', 'nan', 'milk', 'olive oil'}), 0.0035995200639914677, [OrderedStatistic(items_base=frozenset({'chicken', 'nan', 'olive oil'}), items_add=frozenset({'milk'}), confidence=0.5, lift=3.858539094650206)]]\n",
      "[frozenset({'ground beef', 'chocolate', 'frozen vegetables', 'spaghetti'}), 0.0030662578322890282, [OrderedStatistic(items_base=frozenset({'ground beef', 'chocolate', 'frozen vegetables'}), items_add=frozenset({'spaghetti'}), confidence=0.5348837209302326, lift=3.0721001460165964)]]\n",
      "[frozenset({'ground beef', 'spaghetti', 'nan', 'cooking oil'}), 0.004799360085321957, [OrderedStatistic(items_base=frozenset({'ground beef', 'nan', 'cooking oil'}), items_add=frozenset({'spaghetti'}), confidence=0.5714285714285714, lift=3.2819951870487856)]]\n",
      "[frozenset({'spaghetti', 'eggs', 'nan', 'red wine'}), 0.0037328356219170776, [OrderedStatistic(items_base=frozenset({'eggs', 'nan', 'red wine'}), items_add=frozenset({'spaghetti'}), confidence=0.5283018867924528, lift=3.0342974370828397)]]\n",
      "[frozenset({'ground beef', 'herb & pepper', 'nan', 'french fries'}), 0.003199573390214638, [OrderedStatistic(items_base=frozenset({'herb & pepper', 'nan', 'french fries'}), items_add=frozenset({'ground beef'}), confidence=0.46153846153846156, lift=4.697421981004071)]]\n",
      "[frozenset({'frozen smoothie', 'spaghetti', 'milk', 'mineral water'}), 0.003199573390214638, [OrderedStatistic(items_base=frozenset({'frozen smoothie', 'spaghetti', 'mineral water'}), items_add=frozenset({'milk'}), confidence=0.4705882352941177, lift=3.631566206729606)]]\n",
      "[frozenset({'ground beef', 'spaghetti', 'frozen vegetables', 'milk'}), 0.0030662578322890282, [OrderedStatistic(items_base=frozenset({'ground beef', 'frozen vegetables', 'milk'}), items_add=frozenset({'spaghetti'}), confidence=0.5348837209302326, lift=3.0721001460165964)]]\n",
      "[frozenset({'olive oil', 'frozen vegetables', 'milk', 'mineral water'}), 0.003332888948140248, [OrderedStatistic(items_base=frozenset({'frozen vegetables', 'mineral water', 'olive oil'}), items_add=frozenset({'milk'}), confidence=0.5102040816326531, lift=3.937284790459394)]]\n",
      "[frozenset({'soup', 'frozen vegetables', 'milk', 'mineral water'}), 0.0030662578322890282, [OrderedStatistic(items_base=frozenset({'soup', 'frozen vegetables', 'milk'}), items_add=frozenset({'mineral water'}), confidence=0.7666666666666666, lift=3.21631245339299), OrderedStatistic(items_base=frozenset({'soup', 'frozen vegetables', 'mineral water'}), items_add=frozenset({'milk'}), confidence=0.6052631578947368, lift=4.670863114576565)]]\n",
      "[frozenset({'soup', 'nan', 'frozen vegetables', 'milk'}), 0.003999466737768298, [OrderedStatistic(items_base=frozenset({'soup', 'nan', 'frozen vegetables'}), items_add=frozenset({'milk'}), confidence=0.5, lift=3.858539094650206)]]\n",
      "[frozenset({'tomatoes', 'spaghetti', 'frozen vegetables', 'mineral water'}), 0.0030662578322890282, [OrderedStatistic(items_base=frozenset({'tomatoes', 'frozen vegetables', 'mineral water'}), items_add=frozenset({'spaghetti'}), confidence=0.5227272727272727, lift=3.0022796881525826)]]\n",
      "[frozenset({'tomatoes', 'ground beef', 'spaghetti', 'mineral water'}), 0.0030662578322890282, [OrderedStatistic(items_base=frozenset({'ground beef', 'tomatoes', 'mineral water'}), items_add=frozenset({'spaghetti'}), confidence=0.5609756097560976, lift=3.221958689724723)]]\n",
      "[frozenset({'ground beef', 'spaghetti', 'nan', 'shrimp'}), 0.005999200106652446, [OrderedStatistic(items_base=frozenset({'ground beef', 'nan', 'shrimp'}), items_add=frozenset({'spaghetti'}), confidence=0.5232558139534884, lift=3.005315360233627)]]\n",
      "[frozenset({'ground beef', 'spaghetti', 'nan', 'tomato sauce'}), 0.0030662578322890282, [OrderedStatistic(items_base=frozenset({'ground beef', 'nan', 'tomato sauce'}), items_add=frozenset({'spaghetti'}), confidence=0.5750000000000001, lift=3.3025076569678413), OrderedStatistic(items_base=frozenset({'spaghetti', 'nan', 'tomato sauce'}), items_add=frozenset({'ground beef'}), confidence=0.4893617021276596, lift=4.980599901844742)]]\n",
      "[frozenset({'spaghetti', 'nan', 'milk', 'whole wheat pasta'}), 0.003999466737768298, [OrderedStatistic(items_base=frozenset({'spaghetti', 'nan', 'whole wheat pasta'}), items_add=frozenset({'milk'}), confidence=0.4545454545454546, lift=3.5077628133183696)]]\n",
      "[frozenset({'tomatoes', 'spaghetti', 'nan', 'olive oil'}), 0.004399413411545127, [OrderedStatistic(items_base=frozenset({'tomatoes', 'nan', 'olive oil'}), items_add=frozenset({'spaghetti'}), confidence=0.6111111111111112, lift=3.5099115194827295)]]\n",
      "[frozenset({'chocolate', 'ground beef', 'nan', 'frozen vegetables', 'spaghetti'}), 0.0030662578322890282, [OrderedStatistic(items_base=frozenset({'ground beef', 'chocolate', 'nan', 'frozen vegetables'}), items_add=frozenset({'spaghetti'}), confidence=0.5348837209302326, lift=3.0721001460165964)]]\n",
      "[frozenset({'mineral water', 'frozen smoothie', 'nan', 'milk', 'spaghetti'}), 0.003199573390214638, [OrderedStatistic(items_base=frozenset({'frozen smoothie', 'spaghetti', 'nan', 'mineral water'}), items_add=frozenset({'milk'}), confidence=0.4705882352941177, lift=3.631566206729606)]]\n",
      "[frozenset({'ground beef', 'nan', 'frozen vegetables', 'milk', 'spaghetti'}), 0.0030662578322890282, [OrderedStatistic(items_base=frozenset({'ground beef', 'nan', 'frozen vegetables', 'milk'}), items_add=frozenset({'spaghetti'}), confidence=0.5348837209302326, lift=3.0721001460165964)]]\n",
      "[frozenset({'mineral water', 'olive oil', 'nan', 'frozen vegetables', 'milk'}), 0.003332888948140248, [OrderedStatistic(items_base=frozenset({'nan', 'frozen vegetables', 'mineral water', 'olive oil'}), items_add=frozenset({'milk'}), confidence=0.5102040816326531, lift=3.937284790459394)]]\n",
      "[frozenset({'mineral water', 'nan', 'frozen vegetables', 'milk', 'soup'}), 0.0030662578322890282, [OrderedStatistic(items_base=frozenset({'soup', 'nan', 'frozen vegetables', 'milk'}), items_add=frozenset({'mineral water'}), confidence=0.7666666666666666, lift=3.21631245339299), OrderedStatistic(items_base=frozenset({'soup', 'nan', 'frozen vegetables', 'mineral water'}), items_add=frozenset({'milk'}), confidence=0.6052631578947368, lift=4.670863114576565)]]\n",
      "[frozenset({'mineral water', 'nan', 'frozen vegetables', 'tomatoes', 'spaghetti'}), 0.0030662578322890282, [OrderedStatistic(items_base=frozenset({'tomatoes', 'nan', 'frozen vegetables', 'mineral water'}), items_add=frozenset({'spaghetti'}), confidence=0.5227272727272727, lift=3.0022796881525826)]]\n",
      "[frozenset({'mineral water', 'ground beef', 'nan', 'tomatoes', 'spaghetti'}), 0.0030662578322890282, [OrderedStatistic(items_base=frozenset({'ground beef', 'tomatoes', 'nan', 'mineral water'}), items_add=frozenset({'spaghetti'}), confidence=0.5609756097560976, lift=3.221958689724723)]]\n"
     ]
    }
   ],
   "source": [
    "for ele in res:\n",
    "    print(ele)"
   ]
  },
  {
   "cell_type": "code",
   "execution_count": null,
   "metadata": {},
   "outputs": [],
   "source": []
  }
 ],
 "metadata": {
  "kernelspec": {
   "display_name": "Python 3",
   "language": "python",
   "name": "python3"
  },
  "language_info": {
   "codemirror_mode": {
    "name": "ipython",
    "version": 3
   },
   "file_extension": ".py",
   "mimetype": "text/x-python",
   "name": "python",
   "nbconvert_exporter": "python",
   "pygments_lexer": "ipython3",
   "version": "3.8.5"
  }
 },
 "nbformat": 4,
 "nbformat_minor": 4
}
